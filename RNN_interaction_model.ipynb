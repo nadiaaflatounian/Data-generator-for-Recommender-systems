{
  "cells": [
    {
      "cell_type": "code",
      "execution_count": null,
      "metadata": {
        "id": "2QtyjqLm71x7"
      },
      "outputs": [],
      "source": [
        "import pandas as pd\n",
        "import numpy as np\n",
        "from sklearn.preprocessing import LabelEncoder\n",
        "from tensorflow.keras.preprocessing.sequence import pad_sequences\n",
        "from tensorflow.keras.models import Model, load_model\n",
        "from tensorflow.keras.layers import Input, Embedding, GRU, Dense, Concatenate, Dropout\n",
        "from tensorflow.keras.callbacks import ReduceLROnPlateau, EarlyStopping\n",
        "import os\n",
        "from tensorflow.keras.callbacks import ModelCheckpoint\n",
        "from sklearn.utils import class_weight\n",
        "from sklearn.metrics import classification_report, confusion_matrix\n",
        "import seaborn as sns\n",
        "import matplotlib.pyplot as plt\n"
      ]
    },
    {
      "cell_type": "code",
      "execution_count": null,
      "metadata": {
        "colab": {
          "base_uri": "https://localhost:8080/"
        },
        "id": "qVf15c5KwyVN",
        "outputId": "ba1da34e-e0dd-4074-df6a-0594ce105eba"
      },
      "outputs": [
        {
          "name": "stdout",
          "output_type": "stream",
          "text": [
            "Mounted at /content/drive\n"
          ]
        }
      ],
      "source": [
        "# this code is for working in colab\n",
        "from google.colab import drive\n",
        "drive.mount('/content/drive')\n"
      ]
    },
    {
      "cell_type": "code",
      "execution_count": null,
      "metadata": {
        "id": "zaWuoLBl7-z_"
      },
      "outputs": [],
      "source": [
        "# path to  CSV file in  Drive\n",
        "csv_path = '/content/drive/MyDrive/retailrocket/filtered_sessions.csv'\n"
      ]
    },
    {
      "cell_type": "code",
      "execution_count": null,
      "metadata": {
        "id": "had3532q9i_l"
      },
      "outputs": [],
      "source": [
        "data = pd.read_csv(csv_path)\n"
      ]
    },
    {
      "cell_type": "code",
      "execution_count": null,
      "metadata": {
        "colab": {
          "base_uri": "https://localhost:8080/",
          "height": 313
        },
        "id": "qi9mWUSD_aal",
        "outputId": "ed46df4f-86fd-4a15-8707-c50d802fe441"
      },
      "outputs": [
        {
          "data": {
            "application/vnd.google.colaboratory.intrinsic+json": {
              "type": "dataframe",
              "variable_name": "data"
            },
            "text/html": [
              "\n",
              "  <div id=\"df-b23e4d4f-e47f-4ab3-be35-e2380882906a\" class=\"colab-df-container\">\n",
              "    <div>\n",
              "<style scoped>\n",
              "    .dataframe tbody tr th:only-of-type {\n",
              "        vertical-align: middle;\n",
              "    }\n",
              "\n",
              "    .dataframe tbody tr th {\n",
              "        vertical-align: top;\n",
              "    }\n",
              "\n",
              "    .dataframe thead th {\n",
              "        text-align: right;\n",
              "    }\n",
              "</style>\n",
              "<table border=\"1\" class=\"dataframe\">\n",
              "  <thead>\n",
              "    <tr style=\"text-align: right;\">\n",
              "      <th></th>\n",
              "      <th>timestamp</th>\n",
              "      <th>visitorid</th>\n",
              "      <th>event</th>\n",
              "      <th>itemid</th>\n",
              "      <th>category</th>\n",
              "      <th>global_session_id</th>\n",
              "      <th>interaction_type_id</th>\n",
              "      <th>time_since_last_interaction_logscaled</th>\n",
              "      <th>item_preference_logscaled</th>\n",
              "      <th>item_popularity_logscaled</th>\n",
              "      <th>time_since_session_start_logscaled</th>\n",
              "      <th>session_duration_logscaled</th>\n",
              "    </tr>\n",
              "  </thead>\n",
              "  <tbody>\n",
              "    <tr>\n",
              "      <th>0</th>\n",
              "      <td>2015-09-11 20:49:49.439</td>\n",
              "      <td>0</td>\n",
              "      <td>view</td>\n",
              "      <td>285930</td>\n",
              "      <td>1188</td>\n",
              "      <td>0:START:20150911204949:DUR:00327s</td>\n",
              "      <td>3</td>\n",
              "      <td>0.189860</td>\n",
              "      <td>0.080446</td>\n",
              "      <td>0.229065</td>\n",
              "      <td>0.289316</td>\n",
              "      <td>0.468937</td>\n",
              "    </tr>\n",
              "    <tr>\n",
              "      <th>1</th>\n",
              "      <td>2015-09-11 20:52:39.591</td>\n",
              "      <td>0</td>\n",
              "      <td>view</td>\n",
              "      <td>357564</td>\n",
              "      <td>256</td>\n",
              "      <td>0:START:20150911204949:DUR:00327s</td>\n",
              "      <td>3</td>\n",
              "      <td>0.000000</td>\n",
              "      <td>0.000000</td>\n",
              "      <td>0.883486</td>\n",
              "      <td>0.000000</td>\n",
              "      <td>0.000000</td>\n",
              "    </tr>\n",
              "    <tr>\n",
              "      <th>2</th>\n",
              "      <td>2015-09-11 20:55:17.175</td>\n",
              "      <td>0</td>\n",
              "      <td>view</td>\n",
              "      <td>67045</td>\n",
              "      <td>333</td>\n",
              "      <td>0:START:20150911204949:DUR:00327s</td>\n",
              "      <td>3</td>\n",
              "      <td>0.000000</td>\n",
              "      <td>0.000000</td>\n",
              "      <td>0.738648</td>\n",
              "      <td>0.000000</td>\n",
              "      <td>0.000000</td>\n",
              "    </tr>\n",
              "    <tr>\n",
              "      <th>3</th>\n",
              "      <td>2015-08-07 17:51:44.567</td>\n",
              "      <td>2</td>\n",
              "      <td>view</td>\n",
              "      <td>325215</td>\n",
              "      <td>299</td>\n",
              "      <td>2:START:20150807175144:DUR:01753s</td>\n",
              "      <td>3</td>\n",
              "      <td>0.244409</td>\n",
              "      <td>0.298417</td>\n",
              "      <td>0.684853</td>\n",
              "      <td>0.657039</td>\n",
              "      <td>0.677851</td>\n",
              "    </tr>\n",
              "    <tr>\n",
              "      <th>4</th>\n",
              "      <td>2015-08-07 17:53:33.790</td>\n",
              "      <td>2</td>\n",
              "      <td>view</td>\n",
              "      <td>325215</td>\n",
              "      <td>299</td>\n",
              "      <td>2:START:20150807175144:DUR:01753s</td>\n",
              "      <td>3</td>\n",
              "      <td>0.000000</td>\n",
              "      <td>0.000000</td>\n",
              "      <td>0.287558</td>\n",
              "      <td>0.000000</td>\n",
              "      <td>0.000000</td>\n",
              "    </tr>\n",
              "  </tbody>\n",
              "</table>\n",
              "</div>\n",
              "    <div class=\"colab-df-buttons\">\n",
              "\n",
              "  <div class=\"colab-df-container\">\n",
              "    <button class=\"colab-df-convert\" onclick=\"convertToInteractive('df-b23e4d4f-e47f-4ab3-be35-e2380882906a')\"\n",
              "            title=\"Convert this dataframe to an interactive table.\"\n",
              "            style=\"display:none;\">\n",
              "\n",
              "  <svg xmlns=\"http://www.w3.org/2000/svg\" height=\"24px\" viewBox=\"0 -960 960 960\">\n",
              "    <path d=\"M120-120v-720h720v720H120Zm60-500h600v-160H180v160Zm220 220h160v-160H400v160Zm0 220h160v-160H400v160ZM180-400h160v-160H180v160Zm440 0h160v-160H620v160ZM180-180h160v-160H180v160Zm440 0h160v-160H620v160Z\"/>\n",
              "  </svg>\n",
              "    </button>\n",
              "\n",
              "  <style>\n",
              "    .colab-df-container {\n",
              "      display:flex;\n",
              "      gap: 12px;\n",
              "    }\n",
              "\n",
              "    .colab-df-convert {\n",
              "      background-color: #E8F0FE;\n",
              "      border: none;\n",
              "      border-radius: 50%;\n",
              "      cursor: pointer;\n",
              "      display: none;\n",
              "      fill: #1967D2;\n",
              "      height: 32px;\n",
              "      padding: 0 0 0 0;\n",
              "      width: 32px;\n",
              "    }\n",
              "\n",
              "    .colab-df-convert:hover {\n",
              "      background-color: #E2EBFA;\n",
              "      box-shadow: 0px 1px 2px rgba(60, 64, 67, 0.3), 0px 1px 3px 1px rgba(60, 64, 67, 0.15);\n",
              "      fill: #174EA6;\n",
              "    }\n",
              "\n",
              "    .colab-df-buttons div {\n",
              "      margin-bottom: 4px;\n",
              "    }\n",
              "\n",
              "    [theme=dark] .colab-df-convert {\n",
              "      background-color: #3B4455;\n",
              "      fill: #D2E3FC;\n",
              "    }\n",
              "\n",
              "    [theme=dark] .colab-df-convert:hover {\n",
              "      background-color: #434B5C;\n",
              "      box-shadow: 0px 1px 3px 1px rgba(0, 0, 0, 0.15);\n",
              "      filter: drop-shadow(0px 1px 2px rgba(0, 0, 0, 0.3));\n",
              "      fill: #FFFFFF;\n",
              "    }\n",
              "  </style>\n",
              "\n",
              "    <script>\n",
              "      const buttonEl =\n",
              "        document.querySelector('#df-b23e4d4f-e47f-4ab3-be35-e2380882906a button.colab-df-convert');\n",
              "      buttonEl.style.display =\n",
              "        google.colab.kernel.accessAllowed ? 'block' : 'none';\n",
              "\n",
              "      async function convertToInteractive(key) {\n",
              "        const element = document.querySelector('#df-b23e4d4f-e47f-4ab3-be35-e2380882906a');\n",
              "        const dataTable =\n",
              "          await google.colab.kernel.invokeFunction('convertToInteractive',\n",
              "                                                    [key], {});\n",
              "        if (!dataTable) return;\n",
              "\n",
              "        const docLinkHtml = 'Like what you see? Visit the ' +\n",
              "          '<a target=\"_blank\" href=https://colab.research.google.com/notebooks/data_table.ipynb>data table notebook</a>'\n",
              "          + ' to learn more about interactive tables.';\n",
              "        element.innerHTML = '';\n",
              "        dataTable['output_type'] = 'display_data';\n",
              "        await google.colab.output.renderOutput(dataTable, element);\n",
              "        const docLink = document.createElement('div');\n",
              "        docLink.innerHTML = docLinkHtml;\n",
              "        element.appendChild(docLink);\n",
              "      }\n",
              "    </script>\n",
              "  </div>\n",
              "\n",
              "\n",
              "<div id=\"df-3e67d609-6759-4a7a-ba0e-5464e10bfd12\">\n",
              "  <button class=\"colab-df-quickchart\" onclick=\"quickchart('df-3e67d609-6759-4a7a-ba0e-5464e10bfd12')\"\n",
              "            title=\"Suggest charts\"\n",
              "            style=\"display:none;\">\n",
              "\n",
              "<svg xmlns=\"http://www.w3.org/2000/svg\" height=\"24px\"viewBox=\"0 0 24 24\"\n",
              "     width=\"24px\">\n",
              "    <g>\n",
              "        <path d=\"M19 3H5c-1.1 0-2 .9-2 2v14c0 1.1.9 2 2 2h14c1.1 0 2-.9 2-2V5c0-1.1-.9-2-2-2zM9 17H7v-7h2v7zm4 0h-2V7h2v10zm4 0h-2v-4h2v4z\"/>\n",
              "    </g>\n",
              "</svg>\n",
              "  </button>\n",
              "\n",
              "<style>\n",
              "  .colab-df-quickchart {\n",
              "      --bg-color: #E8F0FE;\n",
              "      --fill-color: #1967D2;\n",
              "      --hover-bg-color: #E2EBFA;\n",
              "      --hover-fill-color: #174EA6;\n",
              "      --disabled-fill-color: #AAA;\n",
              "      --disabled-bg-color: #DDD;\n",
              "  }\n",
              "\n",
              "  [theme=dark] .colab-df-quickchart {\n",
              "      --bg-color: #3B4455;\n",
              "      --fill-color: #D2E3FC;\n",
              "      --hover-bg-color: #434B5C;\n",
              "      --hover-fill-color: #FFFFFF;\n",
              "      --disabled-bg-color: #3B4455;\n",
              "      --disabled-fill-color: #666;\n",
              "  }\n",
              "\n",
              "  .colab-df-quickchart {\n",
              "    background-color: var(--bg-color);\n",
              "    border: none;\n",
              "    border-radius: 50%;\n",
              "    cursor: pointer;\n",
              "    display: none;\n",
              "    fill: var(--fill-color);\n",
              "    height: 32px;\n",
              "    padding: 0;\n",
              "    width: 32px;\n",
              "  }\n",
              "\n",
              "  .colab-df-quickchart:hover {\n",
              "    background-color: var(--hover-bg-color);\n",
              "    box-shadow: 0 1px 2px rgba(60, 64, 67, 0.3), 0 1px 3px 1px rgba(60, 64, 67, 0.15);\n",
              "    fill: var(--button-hover-fill-color);\n",
              "  }\n",
              "\n",
              "  .colab-df-quickchart-complete:disabled,\n",
              "  .colab-df-quickchart-complete:disabled:hover {\n",
              "    background-color: var(--disabled-bg-color);\n",
              "    fill: var(--disabled-fill-color);\n",
              "    box-shadow: none;\n",
              "  }\n",
              "\n",
              "  .colab-df-spinner {\n",
              "    border: 2px solid var(--fill-color);\n",
              "    border-color: transparent;\n",
              "    border-bottom-color: var(--fill-color);\n",
              "    animation:\n",
              "      spin 1s steps(1) infinite;\n",
              "  }\n",
              "\n",
              "  @keyframes spin {\n",
              "    0% {\n",
              "      border-color: transparent;\n",
              "      border-bottom-color: var(--fill-color);\n",
              "      border-left-color: var(--fill-color);\n",
              "    }\n",
              "    20% {\n",
              "      border-color: transparent;\n",
              "      border-left-color: var(--fill-color);\n",
              "      border-top-color: var(--fill-color);\n",
              "    }\n",
              "    30% {\n",
              "      border-color: transparent;\n",
              "      border-left-color: var(--fill-color);\n",
              "      border-top-color: var(--fill-color);\n",
              "      border-right-color: var(--fill-color);\n",
              "    }\n",
              "    40% {\n",
              "      border-color: transparent;\n",
              "      border-right-color: var(--fill-color);\n",
              "      border-top-color: var(--fill-color);\n",
              "    }\n",
              "    60% {\n",
              "      border-color: transparent;\n",
              "      border-right-color: var(--fill-color);\n",
              "    }\n",
              "    80% {\n",
              "      border-color: transparent;\n",
              "      border-right-color: var(--fill-color);\n",
              "      border-bottom-color: var(--fill-color);\n",
              "    }\n",
              "    90% {\n",
              "      border-color: transparent;\n",
              "      border-bottom-color: var(--fill-color);\n",
              "    }\n",
              "  }\n",
              "</style>\n",
              "\n",
              "  <script>\n",
              "    async function quickchart(key) {\n",
              "      const quickchartButtonEl =\n",
              "        document.querySelector('#' + key + ' button');\n",
              "      quickchartButtonEl.disabled = true;  // To prevent multiple clicks.\n",
              "      quickchartButtonEl.classList.add('colab-df-spinner');\n",
              "      try {\n",
              "        const charts = await google.colab.kernel.invokeFunction(\n",
              "            'suggestCharts', [key], {});\n",
              "      } catch (error) {\n",
              "        console.error('Error during call to suggestCharts:', error);\n",
              "      }\n",
              "      quickchartButtonEl.classList.remove('colab-df-spinner');\n",
              "      quickchartButtonEl.classList.add('colab-df-quickchart-complete');\n",
              "    }\n",
              "    (() => {\n",
              "      let quickchartButtonEl =\n",
              "        document.querySelector('#df-3e67d609-6759-4a7a-ba0e-5464e10bfd12 button');\n",
              "      quickchartButtonEl.style.display =\n",
              "        google.colab.kernel.accessAllowed ? 'block' : 'none';\n",
              "    })();\n",
              "  </script>\n",
              "</div>\n",
              "    </div>\n",
              "  </div>\n"
            ],
            "text/plain": [
              "                 timestamp  visitorid event  itemid category  \\\n",
              "0  2015-09-11 20:49:49.439          0  view  285930     1188   \n",
              "1  2015-09-11 20:52:39.591          0  view  357564      256   \n",
              "2  2015-09-11 20:55:17.175          0  view   67045      333   \n",
              "3  2015-08-07 17:51:44.567          2  view  325215      299   \n",
              "4  2015-08-07 17:53:33.790          2  view  325215      299   \n",
              "\n",
              "                   global_session_id  interaction_type_id  \\\n",
              "0  0:START:20150911204949:DUR:00327s                    3   \n",
              "1  0:START:20150911204949:DUR:00327s                    3   \n",
              "2  0:START:20150911204949:DUR:00327s                    3   \n",
              "3  2:START:20150807175144:DUR:01753s                    3   \n",
              "4  2:START:20150807175144:DUR:01753s                    3   \n",
              "\n",
              "   time_since_last_interaction_logscaled  item_preference_logscaled  \\\n",
              "0                               0.189860                   0.080446   \n",
              "1                               0.000000                   0.000000   \n",
              "2                               0.000000                   0.000000   \n",
              "3                               0.244409                   0.298417   \n",
              "4                               0.000000                   0.000000   \n",
              "\n",
              "   item_popularity_logscaled  time_since_session_start_logscaled  \\\n",
              "0                   0.229065                            0.289316   \n",
              "1                   0.883486                            0.000000   \n",
              "2                   0.738648                            0.000000   \n",
              "3                   0.684853                            0.657039   \n",
              "4                   0.287558                            0.000000   \n",
              "\n",
              "   session_duration_logscaled  \n",
              "0                    0.468937  \n",
              "1                    0.000000  \n",
              "2                    0.000000  \n",
              "3                    0.677851  \n",
              "4                    0.000000  "
            ]
          },
          "execution_count": 5,
          "metadata": {},
          "output_type": "execute_result"
        }
      ],
      "source": [
        "data.head()"
      ]
    },
    {
      "cell_type": "code",
      "execution_count": null,
      "metadata": {
        "id": "9mDNnDZpAXrT"
      },
      "outputs": [],
      "source": [
        "\n",
        "\n",
        "# Sort Data\n",
        "data['timestamp'] = pd.to_datetime(data['timestamp'])\n",
        "data.sort_values(by=['visitorid', 'timestamp'], inplace=True)\n",
        "\n",
        "# Encode the user IDs and interaction types as integers\n",
        "user_encoder = LabelEncoder()\n",
        "data['user_id_encoded'] = user_encoder.fit_transform(data['visitorid'])\n",
        "\n",
        "\n",
        "# Encode 'interaction_type_id'\n",
        "interaction_types = data['interaction_type_id'].unique().tolist()\n",
        "interaction_encoder = LabelEncoder()\n",
        "interaction_encoder.fit(interaction_types)\n",
        "\n",
        "# transform data with this updated encoder\n",
        "data['interaction_type_encoded'] = interaction_encoder.transform(data['interaction_type_id'])"
      ]
    },
    {
      "cell_type": "code",
      "execution_count": null,
      "metadata": {
        "id": "VYj_IoSeBEm-"
      },
      "outputs": [],
      "source": [
        "data.sort_values(by=['visitorid', 'timestamp'], inplace=True)\n"
      ]
    },
    {
      "cell_type": "code",
      "execution_count": null,
      "metadata": {
        "id": "OR12t7HCBKCp"
      },
      "outputs": [],
      "source": [
        "#set cutoff points\n",
        "train_cutoff = data['timestamp'].quantile(0.70)\n",
        "val_test_cutoff = data['timestamp'].quantile(0.85)\n",
        "\n",
        "# Assign sessions to train, validation, or test set based on the cutoff dates\n",
        "train_sessions = data[data['timestamp'] < train_cutoff]['global_session_id'].unique()\n",
        "val_test_sessions = data[(data['timestamp'] >= train_cutoff) & (data['timestamp'] < val_test_cutoff)]['global_session_id'].unique()\n",
        "test_sessions = data[data['timestamp'] >= val_test_cutoff]['global_session_id'].unique()\n",
        "\n",
        "# Create train, validation, and test datasets\n",
        "train_data = data[data['global_session_id'].isin(train_sessions)]\n",
        "val_data = data[data['global_session_id'].isin(val_test_sessions)]\n",
        "test_data = data[data['global_session_id'].isin(test_sessions)]\n"
      ]
    },
    {
      "cell_type": "code",
      "execution_count": null,
      "metadata": {
        "colab": {
          "base_uri": "https://localhost:8080/"
        },
        "id": "XPbgCAoWBRpS",
        "outputId": "81f293b1-efba-4b1a-d017-c8002021cdb9"
      },
      "outputs": [
        {
          "name": "stdout",
          "output_type": "stream",
          "text": [
            "Training Data:\n",
            "Number of unique sessions: 118983\n",
            "Number of unique users: 97801\n",
            "\n",
            "Validation Data:\n",
            "Number of unique sessions: 2502\n",
            "Number of unique users: 1185\n",
            "\n",
            "Test Data:\n",
            "Number of unique sessions: 1504\n",
            "Number of unique users: 688\n"
          ]
        }
      ],
      "source": [
        "# Print the number of unique sessions and users in each dataset\n",
        "print(\"Training Data:\")\n",
        "print(\"Number of unique sessions:\", train_data['global_session_id'].nunique())\n",
        "print(\"Number of unique users:\", train_data['visitorid'].nunique())\n",
        "\n",
        "print(\"\\nValidation Data:\")\n",
        "print(\"Number of unique sessions:\", val_data['global_session_id'].nunique())\n",
        "print(\"Number of unique users:\", val_data['visitorid'].nunique())\n",
        "\n",
        "print(\"\\nTest Data:\")\n",
        "print(\"Number of unique sessions:\", test_data['global_session_id'].nunique())\n",
        "print(\"Number of unique users:\", test_data['visitorid'].nunique())\n"
      ]
    },
    {
      "cell_type": "code",
      "execution_count": null,
      "metadata": {
        "colab": {
          "base_uri": "https://localhost:8080/"
        },
        "id": "FKLHcNENBa2V",
        "outputId": "0b60d4f2-9c92-43de-df5a-5e35437cd029"
      },
      "outputs": [
        {
          "name": "stdout",
          "output_type": "stream",
          "text": [
            "Maximum sequence length in the dataset: 99\n"
          ]
        }
      ],
      "source": [
        "# Calculate the maximum sequence length across all sessions\n",
        "max_sequence_length = data.groupby(['visitorid', 'global_session_id']).size().max()\n",
        "print(f\"Maximum sequence length in the dataset: {max_sequence_length}\")\n",
        "\n",
        "def prepare_session_data(data, max_length):\n",
        "    grouped = data.groupby(['visitorid', 'global_session_id'])\n",
        "    X, user_ids, y = [], [], []\n",
        "\n",
        "    for (_, session_df) in grouped:\n",
        "        interaction_sequence = session_df['interaction_type_encoded'].values\n",
        "        if len(interaction_sequence) > 1:\n",
        "            for i in range(len(interaction_sequence) - 1):  # Ensuring there's a next interaction\n",
        "                current_sequence = interaction_sequence[:i+1]\n",
        "                next_interaction = interaction_sequence[i+1]  # This is the label for the sequence\n",
        "\n",
        "                # Padding or truncating the sequence\n",
        "                if len(current_sequence) < max_length:\n",
        "                    padded_sequence = np.pad(current_sequence, (max_length - len(current_sequence), 0), mode='constant')\n",
        "                else:\n",
        "                    padded_sequence = current_sequence[-max_length:]\n",
        "\n",
        "                X.append(padded_sequence)\n",
        "                y.append(next_interaction)  # Appending the label\n",
        "                user_ids.append(session_df['visitorid'].iloc[0])\n",
        "\n",
        "    return np.array(X), np.array(user_ids), np.array(y)"
      ]
    },
    {
      "cell_type": "code",
      "execution_count": null,
      "metadata": {
        "id": "Vw_91l5nBg2D"
      },
      "outputs": [],
      "source": [
        "\n",
        "\n",
        "# Prepare training data\n",
        "X_train, user_ids_train, y_train  = prepare_session_data(train_data, max_length=max_sequence_length)\n",
        "\n",
        "\n",
        "# Prepare validation data\n",
        "X_val, user_ids_val , y_val = prepare_session_data(val_data, max_length=max_sequence_length)\n",
        "\n",
        "\n",
        "# Prepare test data\n",
        "X_test, user_ids_test , y_test = prepare_session_data(test_data, max_length=max_sequence_length)\n",
        "\n"
      ]
    },
    {
      "cell_type": "code",
      "execution_count": null,
      "metadata": {
        "colab": {
          "base_uri": "https://localhost:8080/"
        },
        "id": "60mDCcAccxTE",
        "outputId": "a27fb9ee-a565-4dae-dfd5-d359e11e0c74"
      },
      "outputs": [
        {
          "name": "stdout",
          "output_type": "stream",
          "text": [
            "Model: \"model\"\n",
            "__________________________________________________________________________________________________\n",
            " Layer (type)                Output Shape                 Param #   Connected to                  \n",
            "==================================================================================================\n",
            " interaction_input (InputLa  [(None, None)]               0         []                            \n",
            " yer)                                                                                             \n",
            "                                                                                                  \n",
            " embedding (Embedding)       (None, None, 50)             150       ['interaction_input[0][0]']   \n",
            "                                                                                                  \n",
            " gru (GRU)                   (None, 128)                  69120     ['embedding[0][0]']           \n",
            "                                                                                                  \n",
            " user_id_input (InputLayer)  [(None, 1)]                  0         []                            \n",
            "                                                                                                  \n",
            " dense (Dense)               (None, 3)                    387       ['gru[0][0]']                 \n",
            "                                                                                                  \n",
            "==================================================================================================\n",
            "Total params: 69657 (272.10 KB)\n",
            "Trainable params: 69657 (272.10 KB)\n",
            "Non-trainable params: 0 (0.00 Byte)\n",
            "__________________________________________________________________________________________________\n"
          ]
        }
      ],
      "source": [
        "# set number of categorical classes\n",
        "num_users = train_data['visitorid'].nunique()\n",
        "num_interaction_types = len(interaction_encoder.classes_)\n",
        "\n",
        "# Inputs\n",
        "interaction_input = Input(shape=(None,), dtype='int32', name='interaction_input')\n",
        "user_id_input = Input(shape=(1,), dtype='int32', name='user_id_input')\n",
        "\n",
        "# Embeddings\n",
        "interaction_embedding = Embedding(input_dim=num_interaction_types, output_dim=50)(interaction_input)\n",
        "user_embedding = Embedding(input_dim=num_users, output_dim=50, input_length=1)(user_id_input)\n",
        "\n",
        "# Model layers\n",
        "gru_layer = GRU(128, return_sequences=False)(interaction_embedding)\n",
        "output_layer = Dense(num_interaction_types, activation='softmax')(gru_layer)\n",
        "\n",
        "\n",
        "# Construct model\n",
        "model = Model(inputs=[interaction_input, user_id_input], outputs=output_layer)\n",
        "model.compile(optimizer='adam', loss='sparse_categorical_crossentropy', metrics=['accuracy'])\n",
        "\n",
        "early_stopping = EarlyStopping(monitor='val_loss', patience=3, restore_best_weights=True)\n",
        "lr_reduction = ReduceLROnPlateau(monitor='val_loss', factor=0.1, patience=2)\n",
        "# Model summary\n",
        "model.summary()\n",
        "\n",
        "\n",
        "\n"
      ]
    },
    {
      "cell_type": "code",
      "execution_count": null,
      "metadata": {
        "id": "3CeDE5qsczEf"
      },
      "outputs": [],
      "source": [
        "\n",
        "# Path to  GitHub repository on  local machine\n",
        "repo_path = \"C:/Users/nafla/OneDrive/Documents/GitHub/Data-generator-for-RS\"\n",
        "model_dir = os.path.join(repo_path, \"models\")\n",
        "os.makedirs(model_dir, exist_ok=True)  # Ensure the directory exists\n",
        "\n",
        "# Specify the filepath including the required suffix\n",
        "checkpoint_filepath = os.path.join(model_dir, 'model_checkpoint.weights.h5')\n",
        "\n",
        "# Setup the ModelCheckpoint callback\n",
        "checkpoint_callback = ModelCheckpoint(\n",
        "    filepath=checkpoint_filepath,\n",
        "    save_weights_only=True,\n",
        "    monitor='val_accuracy',\n",
        "    mode='max',\n",
        "    save_best_only=True,\n",
        "    verbose=1\n",
        ")\n",
        "\n"
      ]
    },
    {
      "cell_type": "code",
      "execution_count": null,
      "metadata": {
        "colab": {
          "base_uri": "https://localhost:8080/"
        },
        "id": "LndbAnK7wCi3",
        "outputId": "28e655fc-4094-4b84-982e-e56f23316f8f"
      },
      "outputs": [
        {
          "name": "stdout",
          "output_type": "stream",
          "text": [
            "Epoch 1/10\n",
            "16718/16723 [============================>.] - ETA: 0s - loss: 0.7143 - accuracy: 0.7150\n",
            "Epoch 1: val_accuracy improved from -inf to 0.82300, saving model to C:/Users/nafla/OneDrive/Documents/GitHub/Data-generator-for-RS/models/model_checkpoint.weights.h5\n",
            "16723/16723 [==============================] - 117s 7ms/step - loss: 0.7142 - accuracy: 0.7149 - val_loss: 0.7576 - val_accuracy: 0.8230 - lr: 0.0010\n",
            "Epoch 2/10\n",
            "16721/16723 [============================>.] - ETA: 0s - loss: 0.7063 - accuracy: 0.7149\n",
            "Epoch 2: val_accuracy improved from 0.82300 to 0.82329, saving model to C:/Users/nafla/OneDrive/Documents/GitHub/Data-generator-for-RS/models/model_checkpoint.weights.h5\n",
            "16723/16723 [==============================] - 116s 7ms/step - loss: 0.7063 - accuracy: 0.7149 - val_loss: 0.6994 - val_accuracy: 0.8233 - lr: 0.0010\n",
            "Epoch 3/10\n",
            "16720/16723 [============================>.] - ETA: 0s - loss: 0.7031 - accuracy: 0.7079\n",
            "Epoch 3: val_accuracy improved from 0.82329 to 0.82787, saving model to C:/Users/nafla/OneDrive/Documents/GitHub/Data-generator-for-RS/models/model_checkpoint.weights.h5\n",
            "16723/16723 [==============================] - 116s 7ms/step - loss: 0.7032 - accuracy: 0.7079 - val_loss: 0.7033 - val_accuracy: 0.8279 - lr: 0.0010\n",
            "Epoch 4/10\n",
            "16718/16723 [============================>.] - ETA: 0s - loss: 0.7014 - accuracy: 0.7135\n",
            "Epoch 4: val_accuracy did not improve from 0.82787\n",
            "16723/16723 [==============================] - 116s 7ms/step - loss: 0.7014 - accuracy: 0.7135 - val_loss: 0.7311 - val_accuracy: 0.8224 - lr: 0.0010\n",
            "Epoch 5/10\n",
            "16719/16723 [============================>.] - ETA: 0s - loss: 0.6958 - accuracy: 0.6580\n",
            "Epoch 5: val_accuracy did not improve from 0.82787\n",
            "16723/16723 [==============================] - 116s 7ms/step - loss: 0.6959 - accuracy: 0.6580 - val_loss: 0.7347 - val_accuracy: 0.6325 - lr: 1.0000e-04\n"
          ]
        }
      ],
      "source": [
        "# Calculate class weights which inversely proportional to class frequencies\n",
        "class_weights = class_weight.compute_class_weight('balanced',\n",
        "                                                 classes=np.unique(y_train),\n",
        "                                                 y=y_train)\n",
        "class_weights_dict = {i : class_weights[i] for i in range(len(class_weights))}\n",
        "\n",
        "# Include these class weights in model fitting\n",
        "history = model.fit([X_train, user_ids_train], y_train,\n",
        "                    epochs=10,\n",
        "                    batch_size=32,\n",
        "                    validation_data=([X_val, user_ids_val], y_val),\n",
        "                    class_weight=class_weights_dict,\n",
        "                    callbacks=[checkpoint_callback, early_stopping, lr_reduction],\n",
        "                    verbose=1)"
      ]
    },
    {
      "cell_type": "code",
      "execution_count": null,
      "metadata": {
        "colab": {
          "base_uri": "https://localhost:8080/"
        },
        "id": "LZRQNIFpjYyH",
        "outputId": "daf663b6-c1d9-4b75-8b7f-80fb94943167"
      },
      "outputs": [
        {
          "name": "stdout",
          "output_type": "stream",
          "text": [
            "3553/3553 [==============================] - 12s 3ms/step - loss: 0.6920 - accuracy: 0.8336\n",
            "Test Loss: 0.6920392513275146\n",
            "Test Accuracy: 0.8335855007171631\n"
          ]
        }
      ],
      "source": [
        "# Load the best weights\n",
        "model.load_weights(checkpoint_filepath)\n",
        "\n",
        "# Now evaluate on the test set\n",
        "test_loss, test_accuracy = model.evaluate([X_test, user_ids_test], y_test, verbose=1)\n",
        "print(f\"Test Loss: {test_loss}\")\n",
        "print(f\"Test Accuracy: {test_accuracy}\")\n"
      ]
    },
    {
      "cell_type": "code",
      "execution_count": null,
      "metadata": {
        "colab": {
          "base_uri": "https://localhost:8080/"
        },
        "id": "Bt4eJfXQ3h-3",
        "outputId": "8c9171bf-f928-4f68-8f9a-81cb375835c4"
      },
      "outputs": [
        {
          "name": "stderr",
          "output_type": "stream",
          "text": [
            "/usr/local/lib/python3.10/dist-packages/keras/src/engine/training.py:3103: UserWarning: You are saving your model as an HDF5 file via `model.save()`. This file format is considered legacy. We recommend using instead the native Keras format, e.g. `model.save('my_model.keras')`.\n",
            "  saving_api.save_model(\n"
          ]
        }
      ],
      "source": [
        "complete_model_filepath = ('/content/drive/MyDrive/retailrocket/final_interaction_model.h5')\n",
        "model.save(complete_model_filepath)"
      ]
    },
    {
      "cell_type": "code",
      "execution_count": null,
      "metadata": {
        "colab": {
          "base_uri": "https://localhost:8080/"
        },
        "id": "LsXLJUhSjf9C",
        "outputId": "524a167a-a7c5-4cd5-879d-957573a75918"
      },
      "outputs": [
        {
          "name": "stdout",
          "output_type": "stream",
          "text": [
            "3553/3553 [==============================] - 11s 3ms/step\n",
            "              precision    recall  f1-score   support\n",
            "\n",
            "           0       0.26      0.29      0.27      8458\n",
            "           1       0.27      0.84      0.41      3219\n",
            "           2       0.95      0.88      0.91    102009\n",
            "\n",
            "    accuracy                           0.83    113686\n",
            "   macro avg       0.49      0.67      0.53    113686\n",
            "weighted avg       0.88      0.83      0.85    113686\n",
            "\n",
            "[[ 2413  1451  4594]\n",
            " [  311  2700   208]\n",
            " [ 6584  5771 89654]]\n"
          ]
        }
      ],
      "source": [
        "# Load the entire model for inference\n",
        "model = load_model('/content/drive/MyDrive/retailrocket/final_interaction_model.h5')\n",
        "\n",
        "# Make predictions\n",
        "predictions = model.predict([X_test, user_ids_test])\n",
        "predicted_classes = np.argmax(predictions, axis=1)\n",
        "\n",
        "# Calculate metrics\n",
        "print(classification_report(y_test, predicted_classes))\n",
        "print(confusion_matrix(y_test, predicted_classes))"
      ]
    },
    {
      "cell_type": "code",
      "execution_count": null,
      "metadata": {
        "colab": {
          "base_uri": "https://localhost:8080/",
          "height": 472
        },
        "id": "AQDeknqSjvCV",
        "outputId": "cef33020-667d-48b0-9a46-d85ebf8b4677"
      },
      "outputs": [
        {
          "data": {
            "image/png": "[encoded data removed]",
            "text/plain": [
              "<Figure size 640x480 with 2 Axes>"
            ]
          },
          "metadata": {},
          "output_type": "display_data"
        }
      ],
      "source": [
        "#plot confusion matrix\n",
        "conf_mat = confusion_matrix(y_test, predicted_classes)\n",
        "sns.heatmap(conf_mat, annot=True, fmt='d', cmap='Blues')\n",
        "plt.xlabel('Predicted Labels')\n",
        "plt.ylabel('True Labels')\n",
        "plt.title('Confusion Matrix')\n",
        "plt.show()"
      ]
    }
  ],
  "metadata": {
    "accelerator": "GPU",
    "colab": {
      "gpuType": "L4",
      "provenance": []
    },
    "kernelspec": {
      "display_name": "Python 3",
      "name": "python3"
    },
    "language_info": {
      "name": "python"
    }
  },
  "nbformat": 4,
  "nbformat_minor": 0
}

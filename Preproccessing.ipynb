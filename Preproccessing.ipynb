{
 "cells": [
  {
   "cell_type": "code",
   "execution_count": 24,
   "metadata": {},
   "outputs": [],
   "source": [
    "import pandas as pd\n",
    "\n",
    "# Load the events dataset\n",
    "data = pd.read_csv('C:/Users/nafla/Downloads/article/dataset/events.csv', dtype={'visitorid': int, 'event': str, 'itemid': int})\n",
    "data['timestamp'] = pd.to_datetime(data['timestamp'], unit='ms')  # Convert from Unix time in milliseconds\n"
   ]
  },
  {
   "cell_type": "code",
   "execution_count": 25,
   "metadata": {},
   "outputs": [
    {
     "data": {
      "text/html": [
       "<div>\n",
       "<style scoped>\n",
       "    .dataframe tbody tr th:only-of-type {\n",
       "        vertical-align: middle;\n",
       "    }\n",
       "\n",
       "    .dataframe tbody tr th {\n",
       "        vertical-align: top;\n",
       "    }\n",
       "\n",
       "    .dataframe thead th {\n",
       "        text-align: right;\n",
       "    }\n",
       "</style>\n",
       "<table border=\"1\" class=\"dataframe\">\n",
       "  <thead>\n",
       "    <tr style=\"text-align: right;\">\n",
       "      <th></th>\n",
       "      <th>timestamp</th>\n",
       "      <th>visitorid</th>\n",
       "      <th>event</th>\n",
       "      <th>itemid</th>\n",
       "      <th>transactionid</th>\n",
       "    </tr>\n",
       "  </thead>\n",
       "  <tbody>\n",
       "    <tr>\n",
       "      <th>0</th>\n",
       "      <td>2015-06-02 05:02:12.117</td>\n",
       "      <td>257597</td>\n",
       "      <td>view</td>\n",
       "      <td>355908</td>\n",
       "      <td>NaN</td>\n",
       "    </tr>\n",
       "    <tr>\n",
       "      <th>1</th>\n",
       "      <td>2015-06-02 05:50:14.164</td>\n",
       "      <td>992329</td>\n",
       "      <td>view</td>\n",
       "      <td>248676</td>\n",
       "      <td>NaN</td>\n",
       "    </tr>\n",
       "    <tr>\n",
       "      <th>2</th>\n",
       "      <td>2015-06-02 05:13:19.827</td>\n",
       "      <td>111016</td>\n",
       "      <td>view</td>\n",
       "      <td>318965</td>\n",
       "      <td>NaN</td>\n",
       "    </tr>\n",
       "    <tr>\n",
       "      <th>3</th>\n",
       "      <td>2015-06-02 05:12:35.914</td>\n",
       "      <td>483717</td>\n",
       "      <td>view</td>\n",
       "      <td>253185</td>\n",
       "      <td>NaN</td>\n",
       "    </tr>\n",
       "    <tr>\n",
       "      <th>4</th>\n",
       "      <td>2015-06-02 05:02:17.106</td>\n",
       "      <td>951259</td>\n",
       "      <td>view</td>\n",
       "      <td>367447</td>\n",
       "      <td>NaN</td>\n",
       "    </tr>\n",
       "  </tbody>\n",
       "</table>\n",
       "</div>"
      ],
      "text/plain": [
       "                timestamp  visitorid event  itemid  transactionid\n",
       "0 2015-06-02 05:02:12.117     257597  view  355908            NaN\n",
       "1 2015-06-02 05:50:14.164     992329  view  248676            NaN\n",
       "2 2015-06-02 05:13:19.827     111016  view  318965            NaN\n",
       "3 2015-06-02 05:12:35.914     483717  view  253185            NaN\n",
       "4 2015-06-02 05:02:17.106     951259  view  367447            NaN"
      ]
     },
     "execution_count": 25,
     "metadata": {},
     "output_type": "execute_result"
    }
   ],
   "source": [
    "data.head()"
   ]
  },
  {
   "cell_type": "code",
   "execution_count": 26,
   "metadata": {},
   "outputs": [],
   "source": [
    "# Sort the data by visitorid and timestamp\n",
    "data.sort_values(by=['visitorid', 'timestamp'], inplace=True)\n",
    "\n",
    "# Define a session threshold (e.g., 30 minutes)\n",
    "session_threshold = pd.Timedelta(minutes=30)\n",
    "\n",
    "# Calculate time differences between user activities\n",
    "data['time_diff'] = data.groupby('visitorid')['timestamp'].diff()\n",
    "\n",
    "# Identify where new sessions should start\n",
    "data['new_session'] = (data['time_diff'] > session_threshold).astype(int)\n",
    "\n",
    "# Cumulatively sum the new_session flags to create unique session IDs per user\n",
    "data['session_id'] = data.groupby('visitorid')['new_session'].cumsum()\n",
    "\n",
    "# Create a global unique session identifier across all users\n",
    "data['global_session_id'] = data['visitorid'].astype(str) + '_' + data['session_id'].astype(str)\n"
   ]
  },
  {
   "cell_type": "code",
   "execution_count": 27,
   "metadata": {},
   "outputs": [],
   "source": [
    "# Find the start time of each session\n",
    "data['session_start'] = data.groupby('global_session_id')['timestamp'].transform('min')\n",
    "\n",
    "# Calculate the time since the start of the session\n",
    "data['time_since_session_start'] = (data['timestamp'] - data['session_start']).dt.total_seconds()\n"
   ]
  },
  {
   "cell_type": "code",
   "execution_count": 28,
   "metadata": {},
   "outputs": [
    {
     "data": {
      "text/html": [
       "<div>\n",
       "<style scoped>\n",
       "    .dataframe tbody tr th:only-of-type {\n",
       "        vertical-align: middle;\n",
       "    }\n",
       "\n",
       "    .dataframe tbody tr th {\n",
       "        vertical-align: top;\n",
       "    }\n",
       "\n",
       "    .dataframe thead th {\n",
       "        text-align: right;\n",
       "    }\n",
       "</style>\n",
       "<table border=\"1\" class=\"dataframe\">\n",
       "  <thead>\n",
       "    <tr style=\"text-align: right;\">\n",
       "      <th></th>\n",
       "      <th>timestamp</th>\n",
       "      <th>visitorid</th>\n",
       "      <th>event</th>\n",
       "      <th>itemid</th>\n",
       "      <th>session_id</th>\n",
       "      <th>global_session_id</th>\n",
       "      <th>time_since_session_start</th>\n",
       "    </tr>\n",
       "  </thead>\n",
       "  <tbody>\n",
       "    <tr>\n",
       "      <th>1361687</th>\n",
       "      <td>2015-09-11 20:49:49.439</td>\n",
       "      <td>0</td>\n",
       "      <td>view</td>\n",
       "      <td>285930</td>\n",
       "      <td>0</td>\n",
       "      <td>0_0</td>\n",
       "      <td>0.000</td>\n",
       "    </tr>\n",
       "    <tr>\n",
       "      <th>1367212</th>\n",
       "      <td>2015-09-11 20:52:39.591</td>\n",
       "      <td>0</td>\n",
       "      <td>view</td>\n",
       "      <td>357564</td>\n",
       "      <td>0</td>\n",
       "      <td>0_0</td>\n",
       "      <td>170.152</td>\n",
       "    </tr>\n",
       "    <tr>\n",
       "      <th>1367342</th>\n",
       "      <td>2015-09-11 20:55:17.175</td>\n",
       "      <td>0</td>\n",
       "      <td>view</td>\n",
       "      <td>67045</td>\n",
       "      <td>0</td>\n",
       "      <td>0_0</td>\n",
       "      <td>327.736</td>\n",
       "    </tr>\n",
       "    <tr>\n",
       "      <th>830385</th>\n",
       "      <td>2015-08-13 17:46:06.444</td>\n",
       "      <td>1</td>\n",
       "      <td>view</td>\n",
       "      <td>72028</td>\n",
       "      <td>0</td>\n",
       "      <td>1_0</td>\n",
       "      <td>0.000</td>\n",
       "    </tr>\n",
       "    <tr>\n",
       "      <th>742616</th>\n",
       "      <td>2015-08-07 17:51:44.567</td>\n",
       "      <td>2</td>\n",
       "      <td>view</td>\n",
       "      <td>325215</td>\n",
       "      <td>0</td>\n",
       "      <td>2_0</td>\n",
       "      <td>0.000</td>\n",
       "    </tr>\n",
       "  </tbody>\n",
       "</table>\n",
       "</div>"
      ],
      "text/plain": [
       "                      timestamp  visitorid event  itemid  session_id  \\\n",
       "1361687 2015-09-11 20:49:49.439          0  view  285930           0   \n",
       "1367212 2015-09-11 20:52:39.591          0  view  357564           0   \n",
       "1367342 2015-09-11 20:55:17.175          0  view   67045           0   \n",
       "830385  2015-08-13 17:46:06.444          1  view   72028           0   \n",
       "742616  2015-08-07 17:51:44.567          2  view  325215           0   \n",
       "\n",
       "        global_session_id  time_since_session_start  \n",
       "1361687               0_0                     0.000  \n",
       "1367212               0_0                   170.152  \n",
       "1367342               0_0                   327.736  \n",
       "830385                1_0                     0.000  \n",
       "742616                2_0                     0.000  "
      ]
     },
     "execution_count": 28,
     "metadata": {},
     "output_type": "execute_result"
    }
   ],
   "source": [
    "# Drop temporary columns to clean up the DataFrame\n",
    "data.drop(columns=['time_diff', 'new_session', 'session_start', 'transactionid'], inplace=True)\n",
    "data.head()"
   ]
  },
  {
   "cell_type": "code",
   "execution_count": 29,
   "metadata": {},
   "outputs": [
    {
     "data": {
      "text/html": [
       "<div>\n",
       "<style scoped>\n",
       "    .dataframe tbody tr th:only-of-type {\n",
       "        vertical-align: middle;\n",
       "    }\n",
       "\n",
       "    .dataframe tbody tr th {\n",
       "        vertical-align: top;\n",
       "    }\n",
       "\n",
       "    .dataframe thead th {\n",
       "        text-align: right;\n",
       "    }\n",
       "</style>\n",
       "<table border=\"1\" class=\"dataframe\">\n",
       "  <thead>\n",
       "    <tr style=\"text-align: right;\">\n",
       "      <th></th>\n",
       "      <th>timestamp</th>\n",
       "      <th>visitorid</th>\n",
       "      <th>itemid</th>\n",
       "      <th>session_id</th>\n",
       "      <th>global_session_id</th>\n",
       "      <th>time_since_session_start</th>\n",
       "      <th>addtocart</th>\n",
       "      <th>transaction</th>\n",
       "      <th>view</th>\n",
       "    </tr>\n",
       "  </thead>\n",
       "  <tbody>\n",
       "    <tr>\n",
       "      <th>1361687</th>\n",
       "      <td>2015-09-11 20:49:49.439</td>\n",
       "      <td>0</td>\n",
       "      <td>285930</td>\n",
       "      <td>0</td>\n",
       "      <td>0_0</td>\n",
       "      <td>0.000</td>\n",
       "      <td>False</td>\n",
       "      <td>False</td>\n",
       "      <td>True</td>\n",
       "    </tr>\n",
       "    <tr>\n",
       "      <th>1367212</th>\n",
       "      <td>2015-09-11 20:52:39.591</td>\n",
       "      <td>0</td>\n",
       "      <td>357564</td>\n",
       "      <td>0</td>\n",
       "      <td>0_0</td>\n",
       "      <td>170.152</td>\n",
       "      <td>False</td>\n",
       "      <td>False</td>\n",
       "      <td>True</td>\n",
       "    </tr>\n",
       "    <tr>\n",
       "      <th>1367342</th>\n",
       "      <td>2015-09-11 20:55:17.175</td>\n",
       "      <td>0</td>\n",
       "      <td>67045</td>\n",
       "      <td>0</td>\n",
       "      <td>0_0</td>\n",
       "      <td>327.736</td>\n",
       "      <td>False</td>\n",
       "      <td>False</td>\n",
       "      <td>True</td>\n",
       "    </tr>\n",
       "    <tr>\n",
       "      <th>830385</th>\n",
       "      <td>2015-08-13 17:46:06.444</td>\n",
       "      <td>1</td>\n",
       "      <td>72028</td>\n",
       "      <td>0</td>\n",
       "      <td>1_0</td>\n",
       "      <td>0.000</td>\n",
       "      <td>False</td>\n",
       "      <td>False</td>\n",
       "      <td>True</td>\n",
       "    </tr>\n",
       "    <tr>\n",
       "      <th>742616</th>\n",
       "      <td>2015-08-07 17:51:44.567</td>\n",
       "      <td>2</td>\n",
       "      <td>325215</td>\n",
       "      <td>0</td>\n",
       "      <td>2_0</td>\n",
       "      <td>0.000</td>\n",
       "      <td>False</td>\n",
       "      <td>False</td>\n",
       "      <td>True</td>\n",
       "    </tr>\n",
       "  </tbody>\n",
       "</table>\n",
       "</div>"
      ],
      "text/plain": [
       "                      timestamp  visitorid  itemid  session_id  \\\n",
       "1361687 2015-09-11 20:49:49.439          0  285930           0   \n",
       "1367212 2015-09-11 20:52:39.591          0  357564           0   \n",
       "1367342 2015-09-11 20:55:17.175          0   67045           0   \n",
       "830385  2015-08-13 17:46:06.444          1   72028           0   \n",
       "742616  2015-08-07 17:51:44.567          2  325215           0   \n",
       "\n",
       "        global_session_id  time_since_session_start  addtocart  transaction  \\\n",
       "1361687               0_0                     0.000      False        False   \n",
       "1367212               0_0                   170.152      False        False   \n",
       "1367342               0_0                   327.736      False        False   \n",
       "830385                1_0                     0.000      False        False   \n",
       "742616                2_0                     0.000      False        False   \n",
       "\n",
       "         view  \n",
       "1361687  True  \n",
       "1367212  True  \n",
       "1367342  True  \n",
       "830385   True  \n",
       "742616   True  "
      ]
     },
     "execution_count": 29,
     "metadata": {},
     "output_type": "execute_result"
    }
   ],
   "source": [
    "# Assuming 'data' is your DataFrame with the sessionized event data\n",
    "data = pd.get_dummies(data, columns=['event'], prefix='', prefix_sep='')\n",
    "data.head()"
   ]
  },
  {
   "cell_type": "code",
   "execution_count": 30,
   "metadata": {},
   "outputs": [
    {
     "name": "stdout",
     "output_type": "stream",
     "text": [
      "                          Unique Counts  Missing Counts\n",
      "timestamp                       2750455               0\n",
      "visitorid                       1407580               0\n",
      "itemid                           235061               0\n",
      "session_id                          462               0\n",
      "global_session_id               1761675               0\n",
      "time_since_session_start         651148               0\n",
      "addtocart                             2               0\n",
      "transaction                           2               0\n",
      "view                                  2               0\n"
     ]
    }
   ],
   "source": [
    "# Calculating the number of unique values in each column\n",
    "unique_counts = data.nunique()\n",
    "\n",
    "# Calculating the number of missing values in each column\n",
    "missing_counts = data.isnull().sum()\n",
    "\n",
    "# Combining both information into a single DataFrame for better visualization\n",
    "summary_df = pd.DataFrame({\n",
    "    'Unique Counts': unique_counts,\n",
    "    'Missing Counts': missing_counts\n",
    "})\n",
    "\n",
    "# Display the summary DataFrame\n",
    "print(summary_df)"
   ]
  },
  {
   "cell_type": "code",
   "execution_count": 31,
   "metadata": {},
   "outputs": [],
   "source": [
    "# Calculate the number of events in each session\n",
    "session_lengths = data.groupby('global_session_id').size()"
   ]
  },
  {
   "cell_type": "code",
   "execution_count": 32,
   "metadata": {},
   "outputs": [
    {
     "name": "stderr",
     "output_type": "stream",
     "text": [
      "c:\\Users\\nafla\\anaconda3\\Lib\\site-packages\\seaborn\\_oldcore.py:1119: FutureWarning: use_inf_as_na option is deprecated and will be removed in a future version. Convert inf values to NaN before operating instead.\n",
      "  with pd.option_context('mode.use_inf_as_na', True):\n"
     ]
    },
    {
     "data": {
      "image/png": "[encoded data removed]",
      "text/plain": [
       "<Figure size 1200x600 with 1 Axes>"
      ]
     },
     "metadata": {},
     "output_type": "display_data"
    },
    {
     "data": {
      "image/png": "[encoded data removed]",
      "text/plain": [
       "<Figure size 1200x600 with 1 Axes>"
      ]
     },
     "metadata": {},
     "output_type": "display_data"
    }
   ],
   "source": [
    "import matplotlib.pyplot as plt\n",
    "import seaborn as sns\n",
    "\n",
    "# Set the aesthetic style of the plots\n",
    "sns.set_style(\"whitegrid\")\n",
    "\n",
    "# Plot histogram of session lengths\n",
    "plt.figure(figsize=(12, 6))\n",
    "sns.histplot(session_lengths, bins=30, kde=False)\n",
    "plt.title('Distribution of Session Lengths')\n",
    "plt.xlabel('Number of Events per Session')\n",
    "plt.ylabel('Frequency')\n",
    "plt.show()\n",
    "\n",
    "# Plot boxplot to see the distribution and identify potential outliers\n",
    "plt.figure(figsize=(12, 6))\n",
    "sns.boxplot(x=session_lengths)\n",
    "plt.title('Boxplot of Session Lengths')\n",
    "plt.xlabel('Number of Events per Session')\n",
    "plt.show()\n"
   ]
  },
  {
   "cell_type": "code",
   "execution_count": 44,
   "metadata": {},
   "outputs": [
    {
     "name": "stdout",
     "output_type": "stream",
     "text": [
      "Number of sessions with more than 200 events: 44141\n"
     ]
    }
   ],
   "source": [
    "# Filter session_lengths to find those sessions where the number of events is greater than 200\n",
    "sessions_over_200 = session_lengths[session_lengths > 5]\n",
    "\n",
    "# Count the number of sessions with more than 200 events\n",
    "number_of_sessions_over_200 = sessions_over_200.count()\n",
    "\n",
    "print(f\"Number of sessions with more than 200 events: {number_of_sessions_over_200}\")\n"
   ]
  },
  {
   "cell_type": "code",
   "execution_count": 45,
   "metadata": {},
   "outputs": [],
   "source": [
    "# Filter to find sessions with more than 1 and less than 5 events\n",
    "filtered_session_ids = session_lengths[(session_lengths > 1) & (session_lengths < 5)].index"
   ]
  },
  {
   "cell_type": "code",
   "execution_count": 46,
   "metadata": {},
   "outputs": [
    {
     "name": "stdout",
     "output_type": "stream",
     "text": [
      "                      timestamp  visitorid  itemid  session_id  \\\n",
      "1361687 2015-09-11 20:49:49.439          0  285930           0   \n",
      "1367212 2015-09-11 20:52:39.591          0  357564           0   \n",
      "1367342 2015-09-11 20:55:17.175          0   67045           0   \n",
      "1135980 2015-08-30 06:39:38.318          6  253615           1   \n",
      "1130136 2015-08-30 06:40:23.805          6  344723           1   \n",
      "\n",
      "        global_session_id  time_since_session_start  addtocart  transaction  \\\n",
      "1361687               0_0                     0.000      False        False   \n",
      "1367212               0_0                   170.152      False        False   \n",
      "1367342               0_0                   327.736      False        False   \n",
      "1135980               6_1                     0.000      False        False   \n",
      "1130136               6_1                    45.487      False        False   \n",
      "\n",
      "         view  \n",
      "1361687  True  \n",
      "1367212  True  \n",
      "1367342  True  \n",
      "1135980  True  \n",
      "1130136  True  \n",
      "Number of sessions retained: 319391\n"
     ]
    }
   ],
   "source": [
    "# Filter the original data to keep only the sessions of interest\n",
    "filtered_data = data[data['global_session_id'].isin(filtered_session_ids)]\n",
    "\n",
    "# Optional: Verify the results\n",
    "print(filtered_data.head())\n",
    "print(f\"Number of sessions retained: {filtered_data['global_session_id'].nunique()}\")\n"
   ]
  },
  {
   "cell_type": "code",
   "execution_count": 48,
   "metadata": {},
   "outputs": [
    {
     "data": {
      "text/plain": [
       "<bound method DataFrame.info of                       timestamp  visitorid  itemid  session_id  \\\n",
       "1361687 2015-09-11 20:49:49.439          0  285930           0   \n",
       "1367212 2015-09-11 20:52:39.591          0  357564           0   \n",
       "1367342 2015-09-11 20:55:17.175          0   67045           0   \n",
       "1135980 2015-08-30 06:39:38.318          6  253615           1   \n",
       "1130136 2015-08-30 06:40:23.805          6  344723           1   \n",
       "...                         ...        ...     ...         ...   \n",
       "2642325 2015-07-27 05:13:15.037    1407573   57720           1   \n",
       "2755781 2015-08-01 04:12:07.230    1407573  363109           2   \n",
       "2742528 2015-08-01 04:12:45.311    1407573  463766           2   \n",
       "656195  2015-08-04 00:32:47.715    1407573   82278           3   \n",
       "645052  2015-08-04 00:34:55.146    1407573   82278           3   \n",
       "\n",
       "        global_session_id  time_since_session_start  addtocart  transaction  \\\n",
       "1361687               0_0                     0.000      False        False   \n",
       "1367212               0_0                   170.152      False        False   \n",
       "1367342               0_0                   327.736      False        False   \n",
       "1135980               6_1                     0.000      False        False   \n",
       "1130136               6_1                    45.487      False        False   \n",
       "...                   ...                       ...        ...          ...   \n",
       "2642325         1407573_1                   440.034      False        False   \n",
       "2755781         1407573_2                     0.000      False        False   \n",
       "2742528         1407573_2                    38.081      False        False   \n",
       "656195          1407573_3                     0.000      False        False   \n",
       "645052          1407573_3                   127.431      False        False   \n",
       "\n",
       "         view  \n",
       "1361687  True  \n",
       "1367212  True  \n",
       "1367342  True  \n",
       "1135980  True  \n",
       "1130136  True  \n",
       "...       ...  \n",
       "2642325  True  \n",
       "2755781  True  \n",
       "2742528  True  \n",
       "656195   True  \n",
       "645052   True  \n",
       "\n",
       "[781588 rows x 9 columns]>"
      ]
     },
     "execution_count": 48,
     "metadata": {},
     "output_type": "execute_result"
    }
   ],
   "source": [
    "filtered_data.info"
   ]
  },
  {
   "cell_type": "code",
   "execution_count": 50,
   "metadata": {},
   "outputs": [],
   "source": [
    "# Example: Save the filtered data to a new CSV file\n",
    "filtered_data.to_csv('C:/Users/nafla/Downloads/article/dataset/filtered_sessions.csv', index=False)"
   ]
  }
 ],
 "metadata": {
  "kernelspec": {
   "display_name": "base",
   "language": "python",
   "name": "python3"
  },
  "language_info": {
   "codemirror_mode": {
    "name": "ipython",
    "version": 3
   },
   "file_extension": ".py",
   "mimetype": "text/x-python",
   "name": "python",
   "nbconvert_exporter": "python",
   "pygments_lexer": "ipython3",
   "version": "3.11.4"
  }
 },
 "nbformat": 4,
 "nbformat_minor": 2
}

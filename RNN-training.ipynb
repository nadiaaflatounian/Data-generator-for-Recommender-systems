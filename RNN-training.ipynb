{
 "cells": [
  {
   "cell_type": "code",
   "execution_count": 35,
   "metadata": {},
   "outputs": [
    {
     "data": {
      "text/html": [
       "<div>\n",
       "<style scoped>\n",
       "    .dataframe tbody tr th:only-of-type {\n",
       "        vertical-align: middle;\n",
       "    }\n",
       "\n",
       "    .dataframe tbody tr th {\n",
       "        vertical-align: top;\n",
       "    }\n",
       "\n",
       "    .dataframe thead th {\n",
       "        text-align: right;\n",
       "    }\n",
       "</style>\n",
       "<table border=\"1\" class=\"dataframe\">\n",
       "  <thead>\n",
       "    <tr style=\"text-align: right;\">\n",
       "      <th></th>\n",
       "      <th>timestamp</th>\n",
       "      <th>visitorid</th>\n",
       "      <th>event</th>\n",
       "      <th>itemid</th>\n",
       "      <th>session_id</th>\n",
       "      <th>global_session_id</th>\n",
       "      <th>time_since_session_start</th>\n",
       "      <th>interaction_type_id</th>\n",
       "    </tr>\n",
       "  </thead>\n",
       "  <tbody>\n",
       "    <tr>\n",
       "      <th>0</th>\n",
       "      <td>2015-09-11 20:49:49.439</td>\n",
       "      <td>0</td>\n",
       "      <td>view</td>\n",
       "      <td>285930</td>\n",
       "      <td>0</td>\n",
       "      <td>0:START:20150911204949:DUR:00327s</td>\n",
       "      <td>0.000</td>\n",
       "      <td>3</td>\n",
       "    </tr>\n",
       "    <tr>\n",
       "      <th>1</th>\n",
       "      <td>2015-09-11 20:52:39.591</td>\n",
       "      <td>0</td>\n",
       "      <td>view</td>\n",
       "      <td>357564</td>\n",
       "      <td>0</td>\n",
       "      <td>0:START:20150911204949:DUR:00327s</td>\n",
       "      <td>170.152</td>\n",
       "      <td>3</td>\n",
       "    </tr>\n",
       "    <tr>\n",
       "      <th>2</th>\n",
       "      <td>2015-09-11 20:55:17.175</td>\n",
       "      <td>0</td>\n",
       "      <td>view</td>\n",
       "      <td>67045</td>\n",
       "      <td>0</td>\n",
       "      <td>0:START:20150911204949:DUR:00327s</td>\n",
       "      <td>327.736</td>\n",
       "      <td>3</td>\n",
       "    </tr>\n",
       "    <tr>\n",
       "      <th>3</th>\n",
       "      <td>2015-08-30 06:39:38.318</td>\n",
       "      <td>6</td>\n",
       "      <td>view</td>\n",
       "      <td>253615</td>\n",
       "      <td>1</td>\n",
       "      <td>6:START:20150830063938:DUR:01015s</td>\n",
       "      <td>0.000</td>\n",
       "      <td>3</td>\n",
       "    </tr>\n",
       "    <tr>\n",
       "      <th>4</th>\n",
       "      <td>2015-08-30 06:40:23.805</td>\n",
       "      <td>6</td>\n",
       "      <td>view</td>\n",
       "      <td>344723</td>\n",
       "      <td>1</td>\n",
       "      <td>6:START:20150830063938:DUR:01015s</td>\n",
       "      <td>45.487</td>\n",
       "      <td>3</td>\n",
       "    </tr>\n",
       "  </tbody>\n",
       "</table>\n",
       "</div>"
      ],
      "text/plain": [
       "                 timestamp  visitorid event  itemid  session_id  \\\n",
       "0  2015-09-11 20:49:49.439          0  view  285930           0   \n",
       "1  2015-09-11 20:52:39.591          0  view  357564           0   \n",
       "2  2015-09-11 20:55:17.175          0  view   67045           0   \n",
       "3  2015-08-30 06:39:38.318          6  view  253615           1   \n",
       "4  2015-08-30 06:40:23.805          6  view  344723           1   \n",
       "\n",
       "                   global_session_id  time_since_session_start  \\\n",
       "0  0:START:20150911204949:DUR:00327s                     0.000   \n",
       "1  0:START:20150911204949:DUR:00327s                   170.152   \n",
       "2  0:START:20150911204949:DUR:00327s                   327.736   \n",
       "3  6:START:20150830063938:DUR:01015s                     0.000   \n",
       "4  6:START:20150830063938:DUR:01015s                    45.487   \n",
       "\n",
       "   interaction_type_id  \n",
       "0                    3  \n",
       "1                    3  \n",
       "2                    3  \n",
       "3                    3  \n",
       "4                    3  "
      ]
     },
     "execution_count": 35,
     "metadata": {},
     "output_type": "execute_result"
    }
   ],
   "source": [
    "import pandas as pd\n",
    "import numpy as np\n",
    "\n",
    "# Load the events dataset\n",
    "data = pd.read_csv('C:/Users/nafla/Downloads/article/dataset/filtered_sessions.csv')\n",
    "data.head()"
   ]
  },
  {
   "cell_type": "markdown",
   "metadata": {},
   "source": [
    "Convert raw timestamps into multiple features that capture different temporal aspects:\n",
    "- Time of day: Extract hours, minutes, and even seconds.\n",
    "- Day of week: Extract the day of the week from the timestamp.\n",
    "- Month or Season: Extract the month or the season, which can be particularly useful for capturing seasonal behavior in user interactions."
   ]
  },
  {
   "cell_type": "code",
   "execution_count": 36,
   "metadata": {},
   "outputs": [],
   "source": [
    "# Convert 'timestamp' to datetime format if not already done\n",
    "data['timestamp'] = pd.to_datetime(data['timestamp'])\n",
    "\n",
    "\n",
    "data['hour'] = data['timestamp'].dt.hour\n",
    "data['day_of_week'] = data['timestamp'].dt.dayofweek\n",
    "data['month'] = data['timestamp'].dt.month\n"
   ]
  },
  {
   "cell_type": "code",
   "execution_count": 37,
   "metadata": {},
   "outputs": [
    {
     "name": "stdout",
     "output_type": "stream",
     "text": [
      "   hour  hour_sin      hour_cos  day_of_week   day_sin   day_cos\n",
      "0    20 -0.866025  5.000000e-01            4 -0.433884 -0.900969\n",
      "1    20 -0.866025  5.000000e-01            4 -0.433884 -0.900969\n",
      "2    20 -0.866025  5.000000e-01            4 -0.433884 -0.900969\n",
      "3     6  1.000000  6.123234e-17            6 -0.781831  0.623490\n",
      "4     6  1.000000  6.123234e-17            6 -0.781831  0.623490\n"
     ]
    }
   ],
   "source": [
    "# Encodeing time features using sin and cosine \n",
    "data['hour_sin'] = np.sin(2 * np.pi * data['hour']/24)\n",
    "data['hour_cos'] = np.cos(2 * np.pi * data['hour']/24)\n",
    "data['day_sin'] = np.sin(2 * np.pi * data['day_of_week']/7)\n",
    "data['day_cos'] = np.cos(2 * np.pi * data['day_of_week']/7)\n",
    "\n",
    "# Optionally, view some of the data to confirm it looks correct\n",
    "print(data[['hour', 'hour_sin', 'hour_cos', 'day_of_week', 'day_sin', 'day_cos']].head())\n"
   ]
  },
  {
   "cell_type": "code",
   "execution_count": 38,
   "metadata": {},
   "outputs": [],
   "source": [
    "# finding unique users\n",
    "unique_users = data['visitorid'].unique()\n",
    "\n",
    "# Set a random seed for reproducibility\n",
    "np.random.seed(42)\n",
    "\n",
    "# Calculate the number of users to sample\n",
    "sample_size = int(len(unique_users) * 0.40)\n",
    "\n",
    "# Randomly sample user IDs\n",
    "sampled_users = np.random.choice(unique_users, size=sample_size, replace=False)"
   ]
  },
  {
   "cell_type": "code",
   "execution_count": 39,
   "metadata": {},
   "outputs": [
    {
     "name": "stdout",
     "output_type": "stream",
     "text": [
      "Number of sessions in the sampled data: 127382\n",
      "Number of users in the sampled data: 111284\n"
     ]
    }
   ],
   "source": [
    "# Filter the original data to keep only the sessions of sampled users\n",
    "sampled_data = data[data['visitorid'].isin(sampled_users)]\n",
    "\n",
    "# Optional: Verify the results\n",
    "sampled_data.head()\n",
    "print(f\"Number of sessions in the sampled data: {sampled_data['global_session_id'].nunique()}\")\n",
    "print(f\"Number of users in the sampled data: {sampled_data['visitorid'].nunique()}\")\n"
   ]
  },
  {
   "cell_type": "code",
   "execution_count": 40,
   "metadata": {},
   "outputs": [
    {
     "data": {
      "text/html": [
       "<div>\n",
       "<style scoped>\n",
       "    .dataframe tbody tr th:only-of-type {\n",
       "        vertical-align: middle;\n",
       "    }\n",
       "\n",
       "    .dataframe tbody tr th {\n",
       "        vertical-align: top;\n",
       "    }\n",
       "\n",
       "    .dataframe thead th {\n",
       "        text-align: right;\n",
       "    }\n",
       "</style>\n",
       "<table border=\"1\" class=\"dataframe\">\n",
       "  <thead>\n",
       "    <tr style=\"text-align: right;\">\n",
       "      <th></th>\n",
       "      <th>timestamp</th>\n",
       "      <th>visitorid</th>\n",
       "      <th>event</th>\n",
       "      <th>itemid</th>\n",
       "      <th>session_id</th>\n",
       "      <th>global_session_id</th>\n",
       "      <th>time_since_session_start</th>\n",
       "      <th>interaction_type_id</th>\n",
       "      <th>hour</th>\n",
       "      <th>day_of_week</th>\n",
       "      <th>month</th>\n",
       "      <th>hour_sin</th>\n",
       "      <th>hour_cos</th>\n",
       "      <th>day_sin</th>\n",
       "      <th>day_cos</th>\n",
       "    </tr>\n",
       "  </thead>\n",
       "  <tbody>\n",
       "    <tr>\n",
       "      <th>3</th>\n",
       "      <td>2015-08-30 06:39:38.318</td>\n",
       "      <td>6</td>\n",
       "      <td>view</td>\n",
       "      <td>253615</td>\n",
       "      <td>1</td>\n",
       "      <td>6:START:20150830063938:DUR:01015s</td>\n",
       "      <td>0.000</td>\n",
       "      <td>3</td>\n",
       "      <td>6</td>\n",
       "      <td>6</td>\n",
       "      <td>8</td>\n",
       "      <td>1.000000</td>\n",
       "      <td>6.123234e-17</td>\n",
       "      <td>-0.781831</td>\n",
       "      <td>0.623490</td>\n",
       "    </tr>\n",
       "    <tr>\n",
       "      <th>4</th>\n",
       "      <td>2015-08-30 06:40:23.805</td>\n",
       "      <td>6</td>\n",
       "      <td>view</td>\n",
       "      <td>344723</td>\n",
       "      <td>1</td>\n",
       "      <td>6:START:20150830063938:DUR:01015s</td>\n",
       "      <td>45.487</td>\n",
       "      <td>3</td>\n",
       "      <td>6</td>\n",
       "      <td>6</td>\n",
       "      <td>8</td>\n",
       "      <td>1.000000</td>\n",
       "      <td>6.123234e-17</td>\n",
       "      <td>-0.781831</td>\n",
       "      <td>0.623490</td>\n",
       "    </tr>\n",
       "    <tr>\n",
       "      <th>5</th>\n",
       "      <td>2015-08-30 06:54:09.385</td>\n",
       "      <td>6</td>\n",
       "      <td>view</td>\n",
       "      <td>344723</td>\n",
       "      <td>1</td>\n",
       "      <td>6:START:20150830063938:DUR:01015s</td>\n",
       "      <td>871.067</td>\n",
       "      <td>3</td>\n",
       "      <td>6</td>\n",
       "      <td>6</td>\n",
       "      <td>8</td>\n",
       "      <td>1.000000</td>\n",
       "      <td>6.123234e-17</td>\n",
       "      <td>-0.781831</td>\n",
       "      <td>0.623490</td>\n",
       "    </tr>\n",
       "    <tr>\n",
       "      <th>6</th>\n",
       "      <td>2015-08-30 06:56:33.838</td>\n",
       "      <td>6</td>\n",
       "      <td>view</td>\n",
       "      <td>344723</td>\n",
       "      <td>1</td>\n",
       "      <td>6:START:20150830063938:DUR:01015s</td>\n",
       "      <td>1015.520</td>\n",
       "      <td>3</td>\n",
       "      <td>6</td>\n",
       "      <td>6</td>\n",
       "      <td>8</td>\n",
       "      <td>1.000000</td>\n",
       "      <td>6.123234e-17</td>\n",
       "      <td>-0.781831</td>\n",
       "      <td>0.623490</td>\n",
       "    </tr>\n",
       "    <tr>\n",
       "      <th>11</th>\n",
       "      <td>2015-07-02 23:16:15.173</td>\n",
       "      <td>22</td>\n",
       "      <td>view</td>\n",
       "      <td>86411</td>\n",
       "      <td>0</td>\n",
       "      <td>22:START:20150702231615:DUR:00023s</td>\n",
       "      <td>0.000</td>\n",
       "      <td>3</td>\n",
       "      <td>23</td>\n",
       "      <td>3</td>\n",
       "      <td>7</td>\n",
       "      <td>-0.258819</td>\n",
       "      <td>9.659258e-01</td>\n",
       "      <td>0.433884</td>\n",
       "      <td>-0.900969</td>\n",
       "    </tr>\n",
       "  </tbody>\n",
       "</table>\n",
       "</div>"
      ],
      "text/plain": [
       "                 timestamp  visitorid event  itemid  session_id  \\\n",
       "3  2015-08-30 06:39:38.318          6  view  253615           1   \n",
       "4  2015-08-30 06:40:23.805          6  view  344723           1   \n",
       "5  2015-08-30 06:54:09.385          6  view  344723           1   \n",
       "6  2015-08-30 06:56:33.838          6  view  344723           1   \n",
       "11 2015-07-02 23:16:15.173         22  view   86411           0   \n",
       "\n",
       "                     global_session_id  time_since_session_start  \\\n",
       "3    6:START:20150830063938:DUR:01015s                     0.000   \n",
       "4    6:START:20150830063938:DUR:01015s                    45.487   \n",
       "5    6:START:20150830063938:DUR:01015s                   871.067   \n",
       "6    6:START:20150830063938:DUR:01015s                  1015.520   \n",
       "11  22:START:20150702231615:DUR:00023s                     0.000   \n",
       "\n",
       "    interaction_type_id  hour  day_of_week  month  hour_sin      hour_cos  \\\n",
       "3                     3     6            6      8  1.000000  6.123234e-17   \n",
       "4                     3     6            6      8  1.000000  6.123234e-17   \n",
       "5                     3     6            6      8  1.000000  6.123234e-17   \n",
       "6                     3     6            6      8  1.000000  6.123234e-17   \n",
       "11                    3    23            3      7 -0.258819  9.659258e-01   \n",
       "\n",
       "     day_sin   day_cos  \n",
       "3  -0.781831  0.623490  \n",
       "4  -0.781831  0.623490  \n",
       "5  -0.781831  0.623490  \n",
       "6  -0.781831  0.623490  \n",
       "11  0.433884 -0.900969  "
      ]
     },
     "execution_count": 40,
     "metadata": {},
     "output_type": "execute_result"
    }
   ],
   "source": [
    "sampled_data.head()"
   ]
  },
  {
   "cell_type": "code",
   "execution_count": 41,
   "metadata": {},
   "outputs": [
    {
     "name": "stderr",
     "output_type": "stream",
     "text": [
      "C:\\Users\\nafla\\AppData\\Local\\Temp\\ipykernel_11284\\2524327454.py:7: SettingWithCopyWarning: \n",
      "A value is trying to be set on a copy of a slice from a DataFrame.\n",
      "Try using .loc[row_indexer,col_indexer] = value instead\n",
      "\n",
      "See the caveats in the documentation: https://pandas.pydata.org/pandas-docs/stable/user_guide/indexing.html#returning-a-view-versus-a-copy\n",
      "  sampled_data['time_since_session_start'] = scaler.fit_transform(sampled_data[['time_since_session_start']])\n"
     ]
    }
   ],
   "source": [
    "from sklearn.preprocessing import MinMaxScaler\n",
    "\n",
    "# Initialize the MinMaxScaler\n",
    "scaler = MinMaxScaler()\n",
    "\n",
    "# Assuming 'sampled_data' is your DataFrame from the previous step\n",
    "sampled_data['time_since_session_start'] = scaler.fit_transform(sampled_data[['time_since_session_start']])\n"
   ]
  },
  {
   "cell_type": "code",
   "execution_count": 42,
   "metadata": {},
   "outputs": [
    {
     "name": "stderr",
     "output_type": "stream",
     "text": [
      "C:\\Users\\nafla\\AppData\\Local\\Temp\\ipykernel_11284\\1288704688.py:7: SettingWithCopyWarning: \n",
      "A value is trying to be set on a copy of a slice from a DataFrame.\n",
      "Try using .loc[row_indexer,col_indexer] = value instead\n",
      "\n",
      "See the caveats in the documentation: https://pandas.pydata.org/pandas-docs/stable/user_guide/indexing.html#returning-a-view-versus-a-copy\n",
      "  sampled_data['itemid'] = encoder.fit_transform(sampled_data['itemid'])\n",
      "C:\\Users\\nafla\\AppData\\Local\\Temp\\ipykernel_11284\\1288704688.py:9: SettingWithCopyWarning: \n",
      "A value is trying to be set on a copy of a slice from a DataFrame.\n",
      "Try using .loc[row_indexer,col_indexer] = value instead\n",
      "\n",
      "See the caveats in the documentation: https://pandas.pydata.org/pandas-docs/stable/user_guide/indexing.html#returning-a-view-versus-a-copy\n",
      "  sampled_data['month'] = encoder.fit_transform(sampled_data['month'])\n"
     ]
    }
   ],
   "source": [
    "from sklearn.preprocessing import LabelEncoder\n",
    "\n",
    "# Initialize the Label Encoder\n",
    "encoder = LabelEncoder()\n",
    "\n",
    "# Encode the itemid\n",
    "sampled_data['itemid'] = encoder.fit_transform(sampled_data['itemid'])\n",
    "# Encode month\n",
    "sampled_data['month'] = encoder.fit_transform(sampled_data['month'])\n"
   ]
  },
  {
   "cell_type": "code",
   "execution_count": 43,
   "metadata": {},
   "outputs": [
    {
     "data": {
      "text/html": [
       "<div>\n",
       "<style scoped>\n",
       "    .dataframe tbody tr th:only-of-type {\n",
       "        vertical-align: middle;\n",
       "    }\n",
       "\n",
       "    .dataframe tbody tr th {\n",
       "        vertical-align: top;\n",
       "    }\n",
       "\n",
       "    .dataframe thead th {\n",
       "        text-align: right;\n",
       "    }\n",
       "</style>\n",
       "<table border=\"1\" class=\"dataframe\">\n",
       "  <thead>\n",
       "    <tr style=\"text-align: right;\">\n",
       "      <th></th>\n",
       "      <th>timestamp</th>\n",
       "      <th>visitorid</th>\n",
       "      <th>event</th>\n",
       "      <th>itemid</th>\n",
       "      <th>session_id</th>\n",
       "      <th>global_session_id</th>\n",
       "      <th>time_since_session_start</th>\n",
       "      <th>interaction_type_id</th>\n",
       "      <th>hour</th>\n",
       "      <th>day_of_week</th>\n",
       "      <th>month</th>\n",
       "      <th>hour_sin</th>\n",
       "      <th>hour_cos</th>\n",
       "      <th>day_sin</th>\n",
       "      <th>day_cos</th>\n",
       "    </tr>\n",
       "  </thead>\n",
       "  <tbody>\n",
       "    <tr>\n",
       "      <th>3</th>\n",
       "      <td>2015-08-30 06:39:38.318</td>\n",
       "      <td>6</td>\n",
       "      <td>view</td>\n",
       "      <td>39276</td>\n",
       "      <td>1</td>\n",
       "      <td>6:START:20150830063938:DUR:01015s</td>\n",
       "      <td>0.000000</td>\n",
       "      <td>3</td>\n",
       "      <td>6</td>\n",
       "      <td>6</td>\n",
       "      <td>3</td>\n",
       "      <td>1.000000</td>\n",
       "      <td>6.123234e-17</td>\n",
       "      <td>-0.781831</td>\n",
       "      <td>0.623490</td>\n",
       "    </tr>\n",
       "    <tr>\n",
       "      <th>4</th>\n",
       "      <td>2015-08-30 06:40:23.805</td>\n",
       "      <td>6</td>\n",
       "      <td>view</td>\n",
       "      <td>53453</td>\n",
       "      <td>1</td>\n",
       "      <td>6:START:20150830063938:DUR:01015s</td>\n",
       "      <td>0.009186</td>\n",
       "      <td>3</td>\n",
       "      <td>6</td>\n",
       "      <td>6</td>\n",
       "      <td>3</td>\n",
       "      <td>1.000000</td>\n",
       "      <td>6.123234e-17</td>\n",
       "      <td>-0.781831</td>\n",
       "      <td>0.623490</td>\n",
       "    </tr>\n",
       "    <tr>\n",
       "      <th>5</th>\n",
       "      <td>2015-08-30 06:54:09.385</td>\n",
       "      <td>6</td>\n",
       "      <td>view</td>\n",
       "      <td>53453</td>\n",
       "      <td>1</td>\n",
       "      <td>6:START:20150830063938:DUR:01015s</td>\n",
       "      <td>0.175914</td>\n",
       "      <td>3</td>\n",
       "      <td>6</td>\n",
       "      <td>6</td>\n",
       "      <td>3</td>\n",
       "      <td>1.000000</td>\n",
       "      <td>6.123234e-17</td>\n",
       "      <td>-0.781831</td>\n",
       "      <td>0.623490</td>\n",
       "    </tr>\n",
       "    <tr>\n",
       "      <th>6</th>\n",
       "      <td>2015-08-30 06:56:33.838</td>\n",
       "      <td>6</td>\n",
       "      <td>view</td>\n",
       "      <td>53453</td>\n",
       "      <td>1</td>\n",
       "      <td>6:START:20150830063938:DUR:01015s</td>\n",
       "      <td>0.205087</td>\n",
       "      <td>3</td>\n",
       "      <td>6</td>\n",
       "      <td>6</td>\n",
       "      <td>3</td>\n",
       "      <td>1.000000</td>\n",
       "      <td>6.123234e-17</td>\n",
       "      <td>-0.781831</td>\n",
       "      <td>0.623490</td>\n",
       "    </tr>\n",
       "    <tr>\n",
       "      <th>11</th>\n",
       "      <td>2015-07-02 23:16:15.173</td>\n",
       "      <td>22</td>\n",
       "      <td>view</td>\n",
       "      <td>13332</td>\n",
       "      <td>0</td>\n",
       "      <td>22:START:20150702231615:DUR:00023s</td>\n",
       "      <td>0.000000</td>\n",
       "      <td>3</td>\n",
       "      <td>23</td>\n",
       "      <td>3</td>\n",
       "      <td>2</td>\n",
       "      <td>-0.258819</td>\n",
       "      <td>9.659258e-01</td>\n",
       "      <td>0.433884</td>\n",
       "      <td>-0.900969</td>\n",
       "    </tr>\n",
       "  </tbody>\n",
       "</table>\n",
       "</div>"
      ],
      "text/plain": [
       "                 timestamp  visitorid event  itemid  session_id  \\\n",
       "3  2015-08-30 06:39:38.318          6  view   39276           1   \n",
       "4  2015-08-30 06:40:23.805          6  view   53453           1   \n",
       "5  2015-08-30 06:54:09.385          6  view   53453           1   \n",
       "6  2015-08-30 06:56:33.838          6  view   53453           1   \n",
       "11 2015-07-02 23:16:15.173         22  view   13332           0   \n",
       "\n",
       "                     global_session_id  time_since_session_start  \\\n",
       "3    6:START:20150830063938:DUR:01015s                  0.000000   \n",
       "4    6:START:20150830063938:DUR:01015s                  0.009186   \n",
       "5    6:START:20150830063938:DUR:01015s                  0.175914   \n",
       "6    6:START:20150830063938:DUR:01015s                  0.205087   \n",
       "11  22:START:20150702231615:DUR:00023s                  0.000000   \n",
       "\n",
       "    interaction_type_id  hour  day_of_week  month  hour_sin      hour_cos  \\\n",
       "3                     3     6            6      3  1.000000  6.123234e-17   \n",
       "4                     3     6            6      3  1.000000  6.123234e-17   \n",
       "5                     3     6            6      3  1.000000  6.123234e-17   \n",
       "6                     3     6            6      3  1.000000  6.123234e-17   \n",
       "11                    3    23            3      2 -0.258819  9.659258e-01   \n",
       "\n",
       "     day_sin   day_cos  \n",
       "3  -0.781831  0.623490  \n",
       "4  -0.781831  0.623490  \n",
       "5  -0.781831  0.623490  \n",
       "6  -0.781831  0.623490  \n",
       "11  0.433884 -0.900969  "
      ]
     },
     "execution_count": 43,
     "metadata": {},
     "output_type": "execute_result"
    }
   ],
   "source": [
    "sampled_data.head()"
   ]
  },
  {
   "cell_type": "code",
   "execution_count": 44,
   "metadata": {},
   "outputs": [
    {
     "name": "stderr",
     "output_type": "stream",
     "text": [
      "C:\\Users\\nafla\\AppData\\Local\\Temp\\ipykernel_11284\\155815241.py:11: SettingWithCopyWarning: \n",
      "A value is trying to be set on a copy of a slice from a DataFrame\n",
      "\n",
      "See the caveats in the documentation: https://pandas.pydata.org/pandas-docs/stable/user_guide/indexing.html#returning-a-view-versus-a-copy\n",
      "  sampled_data.sort_values('timestamp', inplace=True)\n"
     ]
    }
   ],
   "source": [
    "from sklearn.preprocessing import MinMaxScaler\n",
    "import tensorflow as tf\n",
    "from tensorflow.keras.utils import to_categorical\n",
    "\n",
    "# data['itemid'] = scaler.fit_transform(data[['itemid']])\n",
    "\n",
    "# Convert 'interaction_type_id' to categorical (one-hot encoded format)\n",
    "data['interaction_type_id'] = to_categorical(data['interaction_type_id'])\n",
    "\n",
    "# Assuming 'sampled_data' is already loaded and contains a 'timestamp' column\n",
    "sampled_data.sort_values('timestamp', inplace=True)\n",
    "\n",
    "# Calculate indices for splitting\n",
    "total_count = len(sampled_data)\n",
    "train_end = int(total_count * 0.80)  # Adjusted to use 80% of the data for training\n",
    "\n",
    "# Split the data\n",
    "train_data = sampled_data[:train_end]\n",
    "test_data = sampled_data[train_end:]  # Rest of the data for testing"
   ]
  },
  {
   "cell_type": "code",
   "execution_count": 45,
   "metadata": {},
   "outputs": [
    {
     "name": "stdout",
     "output_type": "stream",
     "text": [
      "Minimum interactions in test sequences: 1\n"
     ]
    }
   ],
   "source": [
    "# Verify the minimum sequence length in validation and test sets\n",
    "min_test_length = test_data.groupby('global_session_id').size().min()\n",
    "\n",
    "print(f\"Minimum interactions in test sequences: {min_test_length}\")\n"
   ]
  },
  {
   "cell_type": "code",
   "execution_count": 46,
   "metadata": {},
   "outputs": [
    {
     "data": {
      "text/html": [
       "<div>\n",
       "<style scoped>\n",
       "    .dataframe tbody tr th:only-of-type {\n",
       "        vertical-align: middle;\n",
       "    }\n",
       "\n",
       "    .dataframe tbody tr th {\n",
       "        vertical-align: top;\n",
       "    }\n",
       "\n",
       "    .dataframe thead th {\n",
       "        text-align: right;\n",
       "    }\n",
       "</style>\n",
       "<table border=\"1\" class=\"dataframe\">\n",
       "  <thead>\n",
       "    <tr style=\"text-align: right;\">\n",
       "      <th></th>\n",
       "      <th>timestamp</th>\n",
       "      <th>visitorid</th>\n",
       "      <th>event</th>\n",
       "      <th>itemid</th>\n",
       "      <th>session_id</th>\n",
       "      <th>global_session_id</th>\n",
       "      <th>time_since_session_start</th>\n",
       "      <th>interaction_type_id</th>\n",
       "      <th>hour</th>\n",
       "      <th>day_of_week</th>\n",
       "      <th>month</th>\n",
       "      <th>hour_sin</th>\n",
       "      <th>hour_cos</th>\n",
       "      <th>day_sin</th>\n",
       "      <th>day_cos</th>\n",
       "    </tr>\n",
       "  </thead>\n",
       "  <tbody>\n",
       "    <tr>\n",
       "      <th>384073</th>\n",
       "      <td>2015-05-03 03:00:04.384</td>\n",
       "      <td>693516</td>\n",
       "      <td>addtocart</td>\n",
       "      <td>46087</td>\n",
       "      <td>0</td>\n",
       "      <td>693516:START:20150503030004:DUR:00025s</td>\n",
       "      <td>0.000000</td>\n",
       "      <td>1</td>\n",
       "      <td>3</td>\n",
       "      <td>6</td>\n",
       "      <td>0</td>\n",
       "      <td>0.707107</td>\n",
       "      <td>0.707107</td>\n",
       "      <td>-0.781831</td>\n",
       "      <td>0.62349</td>\n",
       "    </tr>\n",
       "    <tr>\n",
       "      <th>384074</th>\n",
       "      <td>2015-05-03 03:00:26.228</td>\n",
       "      <td>693516</td>\n",
       "      <td>view</td>\n",
       "      <td>46087</td>\n",
       "      <td>0</td>\n",
       "      <td>693516:START:20150503030004:DUR:00025s</td>\n",
       "      <td>0.004411</td>\n",
       "      <td>3</td>\n",
       "      <td>3</td>\n",
       "      <td>6</td>\n",
       "      <td>0</td>\n",
       "      <td>0.707107</td>\n",
       "      <td>0.707107</td>\n",
       "      <td>-0.781831</td>\n",
       "      <td>0.62349</td>\n",
       "    </tr>\n",
       "    <tr>\n",
       "      <th>384075</th>\n",
       "      <td>2015-05-03 03:00:29.427</td>\n",
       "      <td>693516</td>\n",
       "      <td>addtocart</td>\n",
       "      <td>46087</td>\n",
       "      <td>0</td>\n",
       "      <td>693516:START:20150503030004:DUR:00025s</td>\n",
       "      <td>0.005057</td>\n",
       "      <td>1</td>\n",
       "      <td>3</td>\n",
       "      <td>6</td>\n",
       "      <td>0</td>\n",
       "      <td>0.707107</td>\n",
       "      <td>0.707107</td>\n",
       "      <td>-0.781831</td>\n",
       "      <td>0.62349</td>\n",
       "    </tr>\n",
       "    <tr>\n",
       "      <th>144845</th>\n",
       "      <td>2015-05-03 03:01:07.992</td>\n",
       "      <td>260113</td>\n",
       "      <td>view</td>\n",
       "      <td>19463</td>\n",
       "      <td>0</td>\n",
       "      <td>260113:START:20150503030107:DUR:00362s</td>\n",
       "      <td>0.000000</td>\n",
       "      <td>3</td>\n",
       "      <td>3</td>\n",
       "      <td>6</td>\n",
       "      <td>0</td>\n",
       "      <td>0.707107</td>\n",
       "      <td>0.707107</td>\n",
       "      <td>-0.781831</td>\n",
       "      <td>0.62349</td>\n",
       "    </tr>\n",
       "    <tr>\n",
       "      <th>50695</th>\n",
       "      <td>2015-05-03 03:01:14.535</td>\n",
       "      <td>90447</td>\n",
       "      <td>view</td>\n",
       "      <td>37466</td>\n",
       "      <td>0</td>\n",
       "      <td>90447:START:20150503030114:DUR:00116s</td>\n",
       "      <td>0.000000</td>\n",
       "      <td>3</td>\n",
       "      <td>3</td>\n",
       "      <td>6</td>\n",
       "      <td>0</td>\n",
       "      <td>0.707107</td>\n",
       "      <td>0.707107</td>\n",
       "      <td>-0.781831</td>\n",
       "      <td>0.62349</td>\n",
       "    </tr>\n",
       "  </tbody>\n",
       "</table>\n",
       "</div>"
      ],
      "text/plain": [
       "                     timestamp  visitorid      event  itemid  session_id  \\\n",
       "384073 2015-05-03 03:00:04.384     693516  addtocart   46087           0   \n",
       "384074 2015-05-03 03:00:26.228     693516       view   46087           0   \n",
       "384075 2015-05-03 03:00:29.427     693516  addtocart   46087           0   \n",
       "144845 2015-05-03 03:01:07.992     260113       view   19463           0   \n",
       "50695  2015-05-03 03:01:14.535      90447       view   37466           0   \n",
       "\n",
       "                             global_session_id  time_since_session_start  \\\n",
       "384073  693516:START:20150503030004:DUR:00025s                  0.000000   \n",
       "384074  693516:START:20150503030004:DUR:00025s                  0.004411   \n",
       "384075  693516:START:20150503030004:DUR:00025s                  0.005057   \n",
       "144845  260113:START:20150503030107:DUR:00362s                  0.000000   \n",
       "50695    90447:START:20150503030114:DUR:00116s                  0.000000   \n",
       "\n",
       "        interaction_type_id  hour  day_of_week  month  hour_sin  hour_cos  \\\n",
       "384073                    1     3            6      0  0.707107  0.707107   \n",
       "384074                    3     3            6      0  0.707107  0.707107   \n",
       "384075                    1     3            6      0  0.707107  0.707107   \n",
       "144845                    3     3            6      0  0.707107  0.707107   \n",
       "50695                     3     3            6      0  0.707107  0.707107   \n",
       "\n",
       "         day_sin  day_cos  \n",
       "384073 -0.781831  0.62349  \n",
       "384074 -0.781831  0.62349  \n",
       "384075 -0.781831  0.62349  \n",
       "144845 -0.781831  0.62349  \n",
       "50695  -0.781831  0.62349  "
      ]
     },
     "execution_count": 46,
     "metadata": {},
     "output_type": "execute_result"
    }
   ],
   "source": [
    "train_data.head()"
   ]
  },
  {
   "cell_type": "markdown",
   "metadata": {},
   "source": [
    " ### Group Data by Sessions:\n",
    " The data is grouped by global_session_id, which represents individual sessions. The agg(list) aggregates all the columns into lists, effectively creating a list of interactions for each session.\n",
    "\n",
    " ### Create Sequences for Training:\n",
    " Inputs: The interaction data is combined into a matrix (inputs) where each row corresponds to an interaction featuring the interaction type ID, item ID, and normalized time since session start.\n",
    " X (features): The sequences of interactions up to the second last are stored in X.\n",
    " y (labels/targets): The sequences from the second interaction onward are stored in y. This setup makes the RNN learn to predict the next interaction based on the previous ones"
   ]
  },
  {
   "cell_type": "code",
   "execution_count": 47,
   "metadata": {},
   "outputs": [],
   "source": [
    "\n",
    "# Group data by 'global_session_id' and collect sequences\n",
    "grouped = train_data.groupby('global_session_id').agg(list)\n",
    "\n",
    "# Create sequences for training\n",
    "X = []\n",
    "y = []\n",
    "for session_id, group in grouped.iterrows():\n",
    "    inputs = np.column_stack((group['interaction_type_id'], group['itemid'], group['time_since_session_start'], group['hour_sin'], group['hour_cos'], group['day_sin'], group['day_cos']))\n",
    "    X.append(inputs[:-1])\n",
    "    y.append(inputs[1:])\n"
   ]
  },
  {
   "cell_type": "markdown",
   "metadata": {},
   "source": [
    "### Pad Sequences:\n",
    "Padding: Since sessions can have varying lengths, padding is applied to standardize their lengths, enabling batch processing by the neural network."
   ]
  },
  {
   "cell_type": "code",
   "execution_count": 48,
   "metadata": {},
   "outputs": [],
   "source": [
    "from tensorflow.keras.preprocessing.sequence import pad_sequences\n",
    "\n",
    "# Pad sequences\n",
    "X_padded = pad_sequences(X, padding='post', dtype='float32')\n",
    "y_padded = pad_sequences(y, padding='post', dtype='float32')"
   ]
  },
  {
   "cell_type": "markdown",
   "metadata": {},
   "source": [
    "### Define and Compile the RNN Model:\n",
    "\n",
    "LSTM Layers: Two LSTM layers are used, both returning sequences to ensure that the model outputs a sequence that matches the input sequence in length.\n",
    "\n",
    "TimeDistributed Layer: This applies a dense layer to each time step independently, predicting the interaction type, item ID, and time for each step."
   ]
  },
  {
   "cell_type": "code",
   "execution_count": 56,
   "metadata": {},
   "outputs": [
    {
     "data": {
      "text/html": [
       "<pre style=\"white-space:pre;overflow-x:auto;line-height:normal;font-family:Menlo,'DejaVu Sans Mono',consolas,'Courier New',monospace\"><span style=\"font-weight: bold\">Model: \"sequential_6\"</span>\n",
       "</pre>\n"
      ],
      "text/plain": [
       "\u001b[1mModel: \"sequential_6\"\u001b[0m\n"
      ]
     },
     "metadata": {},
     "output_type": "display_data"
    },
    {
     "data": {
      "text/html": [
       "<pre style=\"white-space:pre;overflow-x:auto;line-height:normal;font-family:Menlo,'DejaVu Sans Mono',consolas,'Courier New',monospace\">┏━━━━━━━━━━━━━━━━━━━━━━━━━━━━━━━━━┳━━━━━━━━━━━━━━━━━━━━━━━━┳━━━━━━━━━━━━━━━┓\n",
       "┃<span style=\"font-weight: bold\"> Layer (type)                    </span>┃<span style=\"font-weight: bold\"> Output Shape           </span>┃<span style=\"font-weight: bold\">       Param # </span>┃\n",
       "┡━━━━━━━━━━━━━━━━━━━━━━━━━━━━━━━━━╇━━━━━━━━━━━━━━━━━━━━━━━━╇━━━━━━━━━━━━━━━┩\n",
       "│ gru_1 (<span style=\"color: #0087ff; text-decoration-color: #0087ff\">GRU</span>)                     │ (<span style=\"color: #00d7ff; text-decoration-color: #00d7ff\">None</span>, <span style=\"color: #00d7ff; text-decoration-color: #00d7ff\">None</span>, <span style=\"color: #00af00; text-decoration-color: #00af00\">50</span>)       │         <span style=\"color: #00af00; text-decoration-color: #00af00\">8,850</span> │\n",
       "├─────────────────────────────────┼────────────────────────┼───────────────┤\n",
       "│ gru_2 (<span style=\"color: #0087ff; text-decoration-color: #0087ff\">GRU</span>)                     │ (<span style=\"color: #00d7ff; text-decoration-color: #00d7ff\">None</span>, <span style=\"color: #00d7ff; text-decoration-color: #00d7ff\">None</span>, <span style=\"color: #00af00; text-decoration-color: #00af00\">50</span>)       │        <span style=\"color: #00af00; text-decoration-color: #00af00\">15,300</span> │\n",
       "├─────────────────────────────────┼────────────────────────┼───────────────┤\n",
       "│ time_distributed_6              │ (<span style=\"color: #00d7ff; text-decoration-color: #00d7ff\">None</span>, <span style=\"color: #00d7ff; text-decoration-color: #00d7ff\">None</span>, <span style=\"color: #00af00; text-decoration-color: #00af00\">7</span>)        │           <span style=\"color: #00af00; text-decoration-color: #00af00\">357</span> │\n",
       "│ (<span style=\"color: #0087ff; text-decoration-color: #0087ff\">TimeDistributed</span>)               │                        │               │\n",
       "└─────────────────────────────────┴────────────────────────┴───────────────┘\n",
       "</pre>\n"
      ],
      "text/plain": [
       "┏━━━━━━━━━━━━━━━━━━━━━━━━━━━━━━━━━┳━━━━━━━━━━━━━━━━━━━━━━━━┳━━━━━━━━━━━━━━━┓\n",
       "┃\u001b[1m \u001b[0m\u001b[1mLayer (type)                   \u001b[0m\u001b[1m \u001b[0m┃\u001b[1m \u001b[0m\u001b[1mOutput Shape          \u001b[0m\u001b[1m \u001b[0m┃\u001b[1m \u001b[0m\u001b[1m      Param #\u001b[0m\u001b[1m \u001b[0m┃\n",
       "┡━━━━━━━━━━━━━━━━━━━━━━━━━━━━━━━━━╇━━━━━━━━━━━━━━━━━━━━━━━━╇━━━━━━━━━━━━━━━┩\n",
       "│ gru_1 (\u001b[38;5;33mGRU\u001b[0m)                     │ (\u001b[38;5;45mNone\u001b[0m, \u001b[38;5;45mNone\u001b[0m, \u001b[38;5;34m50\u001b[0m)       │         \u001b[38;5;34m8,850\u001b[0m │\n",
       "├─────────────────────────────────┼────────────────────────┼───────────────┤\n",
       "│ gru_2 (\u001b[38;5;33mGRU\u001b[0m)                     │ (\u001b[38;5;45mNone\u001b[0m, \u001b[38;5;45mNone\u001b[0m, \u001b[38;5;34m50\u001b[0m)       │        \u001b[38;5;34m15,300\u001b[0m │\n",
       "├─────────────────────────────────┼────────────────────────┼───────────────┤\n",
       "│ time_distributed_6              │ (\u001b[38;5;45mNone\u001b[0m, \u001b[38;5;45mNone\u001b[0m, \u001b[38;5;34m7\u001b[0m)        │           \u001b[38;5;34m357\u001b[0m │\n",
       "│ (\u001b[38;5;33mTimeDistributed\u001b[0m)               │                        │               │\n",
       "└─────────────────────────────────┴────────────────────────┴───────────────┘\n"
      ]
     },
     "metadata": {},
     "output_type": "display_data"
    },
    {
     "data": {
      "text/html": [
       "<pre style=\"white-space:pre;overflow-x:auto;line-height:normal;font-family:Menlo,'DejaVu Sans Mono',consolas,'Courier New',monospace\"><span style=\"font-weight: bold\"> Total params: </span><span style=\"color: #00af00; text-decoration-color: #00af00\">24,507</span> (95.73 KB)\n",
       "</pre>\n"
      ],
      "text/plain": [
       "\u001b[1m Total params: \u001b[0m\u001b[38;5;34m24,507\u001b[0m (95.73 KB)\n"
      ]
     },
     "metadata": {},
     "output_type": "display_data"
    },
    {
     "data": {
      "text/html": [
       "<pre style=\"white-space:pre;overflow-x:auto;line-height:normal;font-family:Menlo,'DejaVu Sans Mono',consolas,'Courier New',monospace\"><span style=\"font-weight: bold\"> Trainable params: </span><span style=\"color: #00af00; text-decoration-color: #00af00\">24,507</span> (95.73 KB)\n",
       "</pre>\n"
      ],
      "text/plain": [
       "\u001b[1m Trainable params: \u001b[0m\u001b[38;5;34m24,507\u001b[0m (95.73 KB)\n"
      ]
     },
     "metadata": {},
     "output_type": "display_data"
    },
    {
     "data": {
      "text/html": [
       "<pre style=\"white-space:pre;overflow-x:auto;line-height:normal;font-family:Menlo,'DejaVu Sans Mono',consolas,'Courier New',monospace\"><span style=\"font-weight: bold\"> Non-trainable params: </span><span style=\"color: #00af00; text-decoration-color: #00af00\">0</span> (0.00 B)\n",
       "</pre>\n"
      ],
      "text/plain": [
       "\u001b[1m Non-trainable params: \u001b[0m\u001b[38;5;34m0\u001b[0m (0.00 B)\n"
      ]
     },
     "metadata": {},
     "output_type": "display_data"
    }
   ],
   "source": [
    "from tensorflow.keras.models import Sequential\n",
    "from tensorflow.keras.layers import LSTM, Dense, TimeDistributed\n",
    "from tensorflow.keras.layers import GRU\n",
    "\n",
    "\n",
    "# Define model architecture\n",
    "model = Sequential([\n",
    "    GRU(50, return_sequences=True, input_shape=(None, X_padded.shape[2])),\n",
    "    GRU(50, return_sequences=True),\n",
    "    TimeDistributed(Dense(X_padded.shape[2], activation='softmax'))  # Predict the next interaction\n",
    "])\n",
    "\n",
    "model.compile(optimizer='adam', loss='categorical_crossentropy', metrics=['accuracy'])\n",
    "model.summary()"
   ]
  },
  {
   "cell_type": "markdown",
   "metadata": {},
   "source": [
    "### Training the Model:\n",
    "The model is trained for 10 epochs, using 20% of the data for validation to monitor overfitting."
   ]
  },
  {
   "cell_type": "code",
   "execution_count": 57,
   "metadata": {},
   "outputs": [
    {
     "name": "stdout",
     "output_type": "stream",
     "text": [
      "Epoch 1/10\n",
      "\u001b[1m2545/2545\u001b[0m \u001b[32m━━━━━━━━━━━━━━━━━━━━\u001b[0m\u001b[37m\u001b[0m \u001b[1m10s\u001b[0m 3ms/step - accuracy: 0.4757 - loss: 1305.5811 - val_accuracy: 0.4856 - val_loss: 16.6951\n",
      "Epoch 2/10\n",
      "\u001b[1m2545/2545\u001b[0m \u001b[32m━━━━━━━━━━━━━━━━━━━━\u001b[0m\u001b[37m\u001b[0m \u001b[1m10s\u001b[0m 4ms/step - accuracy: 0.4830 - loss: 16.5188 - val_accuracy: 0.4856 - val_loss: 16.1699\n",
      "Epoch 3/10\n",
      "\u001b[1m2545/2545\u001b[0m \u001b[32m━━━━━━━━━━━━━━━━━━━━\u001b[0m\u001b[37m\u001b[0m \u001b[1m9s\u001b[0m 3ms/step - accuracy: 0.4825 - loss: 16.0637 - val_accuracy: 0.4856 - val_loss: 15.9533\n",
      "Epoch 4/10\n",
      "\u001b[1m2545/2545\u001b[0m \u001b[32m━━━━━━━━━━━━━━━━━━━━\u001b[0m\u001b[37m\u001b[0m \u001b[1m8s\u001b[0m 3ms/step - accuracy: 0.4825 - loss: 15.9445 - val_accuracy: 0.4856 - val_loss: 15.9525\n",
      "Epoch 5/10\n",
      "\u001b[1m2545/2545\u001b[0m \u001b[32m━━━━━━━━━━━━━━━━━━━━\u001b[0m\u001b[37m\u001b[0m \u001b[1m9s\u001b[0m 3ms/step - accuracy: 0.4834 - loss: 16.0410 - val_accuracy: 0.4856 - val_loss: 15.9521\n",
      "Epoch 6/10\n",
      "\u001b[1m2545/2545\u001b[0m \u001b[32m━━━━━━━━━━━━━━━━━━━━\u001b[0m\u001b[37m\u001b[0m \u001b[1m9s\u001b[0m 4ms/step - accuracy: 0.4821 - loss: 15.9667 - val_accuracy: 0.4856 - val_loss: 15.9627\n",
      "Epoch 7/10\n",
      "\u001b[1m2545/2545\u001b[0m \u001b[32m━━━━━━━━━━━━━━━━━━━━\u001b[0m\u001b[37m\u001b[0m \u001b[1m10s\u001b[0m 4ms/step - accuracy: 0.4823 - loss: 16.0050 - val_accuracy: 0.4856 - val_loss: 15.9509\n",
      "Epoch 8/10\n",
      "\u001b[1m2545/2545\u001b[0m \u001b[32m━━━━━━━━━━━━━━━━━━━━\u001b[0m\u001b[37m\u001b[0m \u001b[1m19s\u001b[0m 7ms/step - accuracy: 0.4832 - loss: 16.0363 - val_accuracy: 0.4856 - val_loss: 15.9538\n",
      "Epoch 9/10\n",
      "\u001b[1m2545/2545\u001b[0m \u001b[32m━━━━━━━━━━━━━━━━━━━━\u001b[0m\u001b[37m\u001b[0m \u001b[1m22s\u001b[0m 9ms/step - accuracy: 0.4829 - loss: 15.9959 - val_accuracy: 0.4856 - val_loss: 15.9523\n",
      "Epoch 10/10\n",
      "\u001b[1m2545/2545\u001b[0m \u001b[32m━━━━━━━━━━━━━━━━━━━━\u001b[0m\u001b[37m\u001b[0m \u001b[1m21s\u001b[0m 8ms/step - accuracy: 0.4826 - loss: 16.0243 - val_accuracy: 0.4856 - val_loss: 15.9530\n"
     ]
    }
   ],
   "source": [
    "# Train the model\n",
    "history = model.fit(X_padded, y_padded, epochs=10, validation_split=0.2)"
   ]
  },
  {
   "cell_type": "code",
   "execution_count": 51,
   "metadata": {},
   "outputs": [
    {
     "name": "stdout",
     "output_type": "stream",
     "text": [
      "\u001b[1m3181/3181\u001b[0m \u001b[32m━━━━━━━━━━━━━━━━━━━━\u001b[0m\u001b[37m\u001b[0m \u001b[1m5s\u001b[0m 1ms/step - accuracy: 0.4837 - loss: 15.9917\n",
      "Test Accuracy: 0.48\n"
     ]
    }
   ],
   "source": [
    "# Evaluate the model\n",
    "test_loss, test_accuracy = model.evaluate(X_padded, y_padded)\n",
    "print(f\"Test Accuracy: {test_accuracy:.2f}\")"
   ]
  }
 ],
 "metadata": {
  "kernelspec": {
   "display_name": "base",
   "language": "python",
   "name": "python3"
  },
  "language_info": {
   "codemirror_mode": {
    "name": "ipython",
    "version": 3
   },
   "file_extension": ".py",
   "mimetype": "text/x-python",
   "name": "python",
   "nbconvert_exporter": "python",
   "pygments_lexer": "ipython3",
   "version": "3.11.4"
  }
 },
 "nbformat": 4,
 "nbformat_minor": 2
}

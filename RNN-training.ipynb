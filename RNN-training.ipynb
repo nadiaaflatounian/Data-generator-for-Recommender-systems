{
 "cells": [
  {
   "cell_type": "code",
   "execution_count": 1,
   "metadata": {},
   "outputs": [
    {
     "data": {
      "text/html": [
       "<div>\n",
       "<style scoped>\n",
       "    .dataframe tbody tr th:only-of-type {\n",
       "        vertical-align: middle;\n",
       "    }\n",
       "\n",
       "    .dataframe tbody tr th {\n",
       "        vertical-align: top;\n",
       "    }\n",
       "\n",
       "    .dataframe thead th {\n",
       "        text-align: right;\n",
       "    }\n",
       "</style>\n",
       "<table border=\"1\" class=\"dataframe\">\n",
       "  <thead>\n",
       "    <tr style=\"text-align: right;\">\n",
       "      <th></th>\n",
       "      <th>timestamp</th>\n",
       "      <th>visitorid</th>\n",
       "      <th>event</th>\n",
       "      <th>itemid</th>\n",
       "      <th>session_id</th>\n",
       "      <th>global_session_id</th>\n",
       "      <th>time_since_session_start</th>\n",
       "      <th>interaction_type_id</th>\n",
       "    </tr>\n",
       "  </thead>\n",
       "  <tbody>\n",
       "    <tr>\n",
       "      <th>0</th>\n",
       "      <td>2015-09-11 20:49:49.439</td>\n",
       "      <td>0</td>\n",
       "      <td>view</td>\n",
       "      <td>285930</td>\n",
       "      <td>0</td>\n",
       "      <td>0:START:20150911204949:DUR:00327s</td>\n",
       "      <td>0.000</td>\n",
       "      <td>3</td>\n",
       "    </tr>\n",
       "    <tr>\n",
       "      <th>1</th>\n",
       "      <td>2015-09-11 20:52:39.591</td>\n",
       "      <td>0</td>\n",
       "      <td>view</td>\n",
       "      <td>357564</td>\n",
       "      <td>0</td>\n",
       "      <td>0:START:20150911204949:DUR:00327s</td>\n",
       "      <td>170.152</td>\n",
       "      <td>3</td>\n",
       "    </tr>\n",
       "    <tr>\n",
       "      <th>2</th>\n",
       "      <td>2015-09-11 20:55:17.175</td>\n",
       "      <td>0</td>\n",
       "      <td>view</td>\n",
       "      <td>67045</td>\n",
       "      <td>0</td>\n",
       "      <td>0:START:20150911204949:DUR:00327s</td>\n",
       "      <td>327.736</td>\n",
       "      <td>3</td>\n",
       "    </tr>\n",
       "    <tr>\n",
       "      <th>3</th>\n",
       "      <td>2015-08-30 06:39:38.318</td>\n",
       "      <td>6</td>\n",
       "      <td>view</td>\n",
       "      <td>253615</td>\n",
       "      <td>1</td>\n",
       "      <td>6:START:20150830063938:DUR:01015s</td>\n",
       "      <td>0.000</td>\n",
       "      <td>3</td>\n",
       "    </tr>\n",
       "    <tr>\n",
       "      <th>4</th>\n",
       "      <td>2015-08-30 06:40:23.805</td>\n",
       "      <td>6</td>\n",
       "      <td>view</td>\n",
       "      <td>344723</td>\n",
       "      <td>1</td>\n",
       "      <td>6:START:20150830063938:DUR:01015s</td>\n",
       "      <td>45.487</td>\n",
       "      <td>3</td>\n",
       "    </tr>\n",
       "  </tbody>\n",
       "</table>\n",
       "</div>"
      ],
      "text/plain": [
       "                 timestamp  visitorid event  itemid  session_id  \\\n",
       "0  2015-09-11 20:49:49.439          0  view  285930           0   \n",
       "1  2015-09-11 20:52:39.591          0  view  357564           0   \n",
       "2  2015-09-11 20:55:17.175          0  view   67045           0   \n",
       "3  2015-08-30 06:39:38.318          6  view  253615           1   \n",
       "4  2015-08-30 06:40:23.805          6  view  344723           1   \n",
       "\n",
       "                   global_session_id  time_since_session_start  \\\n",
       "0  0:START:20150911204949:DUR:00327s                     0.000   \n",
       "1  0:START:20150911204949:DUR:00327s                   170.152   \n",
       "2  0:START:20150911204949:DUR:00327s                   327.736   \n",
       "3  6:START:20150830063938:DUR:01015s                     0.000   \n",
       "4  6:START:20150830063938:DUR:01015s                    45.487   \n",
       "\n",
       "   interaction_type_id  \n",
       "0                    3  \n",
       "1                    3  \n",
       "2                    3  \n",
       "3                    3  \n",
       "4                    3  "
      ]
     },
     "execution_count": 1,
     "metadata": {},
     "output_type": "execute_result"
    }
   ],
   "source": [
    "import pandas as pd\n",
    "import numpy as np\n",
    "\n",
    "# Load the events dataset\n",
    "data = pd.read_csv('C:/Users/nafla/Downloads/article/dataset/filtered_sessions.csv')\n",
    "data.head()"
   ]
  },
  {
   "cell_type": "code",
   "execution_count": 2,
   "metadata": {},
   "outputs": [],
   "source": [
    "# finding unique users\n",
    "unique_users = data['visitorid'].unique()\n",
    "\n",
    "# Set a random seed for reproducibility\n",
    "np.random.seed(42)\n",
    "\n",
    "# Calculate the number of users to sample\n",
    "sample_size = int(len(unique_users) * 0.20)\n",
    "\n",
    "# Randomly sample user IDs\n",
    "sampled_users = np.random.choice(unique_users, size=sample_size, replace=False)"
   ]
  },
  {
   "cell_type": "code",
   "execution_count": 3,
   "metadata": {},
   "outputs": [
    {
     "name": "stdout",
     "output_type": "stream",
     "text": [
      "Number of sessions in the sampled data: 64120\n",
      "Number of users in the sampled data: 55642\n"
     ]
    }
   ],
   "source": [
    "# Filter the original data to keep only the sessions of sampled users\n",
    "sampled_data = data[data['visitorid'].isin(sampled_users)]\n",
    "\n",
    "# Optional: Verify the results\n",
    "sampled_data.head()\n",
    "print(f\"Number of sessions in the sampled data: {sampled_data['global_session_id'].nunique()}\")\n",
    "print(f\"Number of users in the sampled data: {sampled_data['visitorid'].nunique()}\")\n"
   ]
  },
  {
   "cell_type": "code",
   "execution_count": 4,
   "metadata": {},
   "outputs": [
    {
     "data": {
      "text/html": [
       "<div>\n",
       "<style scoped>\n",
       "    .dataframe tbody tr th:only-of-type {\n",
       "        vertical-align: middle;\n",
       "    }\n",
       "\n",
       "    .dataframe tbody tr th {\n",
       "        vertical-align: top;\n",
       "    }\n",
       "\n",
       "    .dataframe thead th {\n",
       "        text-align: right;\n",
       "    }\n",
       "</style>\n",
       "<table border=\"1\" class=\"dataframe\">\n",
       "  <thead>\n",
       "    <tr style=\"text-align: right;\">\n",
       "      <th></th>\n",
       "      <th>timestamp</th>\n",
       "      <th>visitorid</th>\n",
       "      <th>event</th>\n",
       "      <th>itemid</th>\n",
       "      <th>session_id</th>\n",
       "      <th>global_session_id</th>\n",
       "      <th>time_since_session_start</th>\n",
       "      <th>interaction_type_id</th>\n",
       "    </tr>\n",
       "  </thead>\n",
       "  <tbody>\n",
       "    <tr>\n",
       "      <th>15</th>\n",
       "      <td>2015-07-13 16:29:23.786</td>\n",
       "      <td>36</td>\n",
       "      <td>view</td>\n",
       "      <td>176286</td>\n",
       "      <td>0</td>\n",
       "      <td>36:START:20150713162923:DUR:00205s</td>\n",
       "      <td>0.000</td>\n",
       "      <td>3</td>\n",
       "    </tr>\n",
       "    <tr>\n",
       "      <th>16</th>\n",
       "      <td>2015-07-13 16:32:48.853</td>\n",
       "      <td>36</td>\n",
       "      <td>view</td>\n",
       "      <td>176286</td>\n",
       "      <td>0</td>\n",
       "      <td>36:START:20150713162923:DUR:00205s</td>\n",
       "      <td>205.067</td>\n",
       "      <td>3</td>\n",
       "    </tr>\n",
       "    <tr>\n",
       "      <th>29</th>\n",
       "      <td>2015-06-22 15:38:37.948</td>\n",
       "      <td>65</td>\n",
       "      <td>view</td>\n",
       "      <td>52383</td>\n",
       "      <td>0</td>\n",
       "      <td>65:START:20150622153837:DUR:00051s</td>\n",
       "      <td>0.000</td>\n",
       "      <td>3</td>\n",
       "    </tr>\n",
       "    <tr>\n",
       "      <th>30</th>\n",
       "      <td>2015-06-22 15:39:17.183</td>\n",
       "      <td>65</td>\n",
       "      <td>view</td>\n",
       "      <td>168656</td>\n",
       "      <td>0</td>\n",
       "      <td>65:START:20150622153837:DUR:00051s</td>\n",
       "      <td>39.235</td>\n",
       "      <td>3</td>\n",
       "    </tr>\n",
       "    <tr>\n",
       "      <th>31</th>\n",
       "      <td>2015-06-22 15:39:23.298</td>\n",
       "      <td>65</td>\n",
       "      <td>view</td>\n",
       "      <td>52383</td>\n",
       "      <td>0</td>\n",
       "      <td>65:START:20150622153837:DUR:00051s</td>\n",
       "      <td>45.350</td>\n",
       "      <td>3</td>\n",
       "    </tr>\n",
       "  </tbody>\n",
       "</table>\n",
       "</div>"
      ],
      "text/plain": [
       "                  timestamp  visitorid event  itemid  session_id  \\\n",
       "15  2015-07-13 16:29:23.786         36  view  176286           0   \n",
       "16  2015-07-13 16:32:48.853         36  view  176286           0   \n",
       "29  2015-06-22 15:38:37.948         65  view   52383           0   \n",
       "30  2015-06-22 15:39:17.183         65  view  168656           0   \n",
       "31  2015-06-22 15:39:23.298         65  view   52383           0   \n",
       "\n",
       "                     global_session_id  time_since_session_start  \\\n",
       "15  36:START:20150713162923:DUR:00205s                     0.000   \n",
       "16  36:START:20150713162923:DUR:00205s                   205.067   \n",
       "29  65:START:20150622153837:DUR:00051s                     0.000   \n",
       "30  65:START:20150622153837:DUR:00051s                    39.235   \n",
       "31  65:START:20150622153837:DUR:00051s                    45.350   \n",
       "\n",
       "    interaction_type_id  \n",
       "15                    3  \n",
       "16                    3  \n",
       "29                    3  \n",
       "30                    3  \n",
       "31                    3  "
      ]
     },
     "execution_count": 4,
     "metadata": {},
     "output_type": "execute_result"
    }
   ],
   "source": [
    "sampled_data.head()"
   ]
  },
  {
   "cell_type": "code",
   "execution_count": 5,
   "metadata": {},
   "outputs": [
    {
     "name": "stderr",
     "output_type": "stream",
     "text": [
      "C:\\Users\\nafla\\AppData\\Local\\Temp\\ipykernel_19316\\2524327454.py:7: SettingWithCopyWarning: \n",
      "A value is trying to be set on a copy of a slice from a DataFrame.\n",
      "Try using .loc[row_indexer,col_indexer] = value instead\n",
      "\n",
      "See the caveats in the documentation: https://pandas.pydata.org/pandas-docs/stable/user_guide/indexing.html#returning-a-view-versus-a-copy\n",
      "  sampled_data['time_since_session_start'] = scaler.fit_transform(sampled_data[['time_since_session_start']])\n"
     ]
    }
   ],
   "source": [
    "from sklearn.preprocessing import MinMaxScaler\n",
    "\n",
    "# Initialize the MinMaxScaler\n",
    "scaler = MinMaxScaler()\n",
    "\n",
    "# Assuming 'sampled_data' is your DataFrame from the previous step\n",
    "sampled_data['time_since_session_start'] = scaler.fit_transform(sampled_data[['time_since_session_start']])\n"
   ]
  },
  {
   "cell_type": "code",
   "execution_count": 6,
   "metadata": {},
   "outputs": [
    {
     "name": "stderr",
     "output_type": "stream",
     "text": [
      "C:\\Users\\nafla\\AppData\\Local\\Temp\\ipykernel_19316\\214686607.py:7: SettingWithCopyWarning: \n",
      "A value is trying to be set on a copy of a slice from a DataFrame.\n",
      "Try using .loc[row_indexer,col_indexer] = value instead\n",
      "\n",
      "See the caveats in the documentation: https://pandas.pydata.org/pandas-docs/stable/user_guide/indexing.html#returning-a-view-versus-a-copy\n",
      "  sampled_data['itemid'] = encoder.fit_transform(sampled_data['itemid'])\n"
     ]
    }
   ],
   "source": [
    "from sklearn.preprocessing import LabelEncoder\n",
    "\n",
    "# Initialize the Label Encoder\n",
    "encoder = LabelEncoder()\n",
    "\n",
    "# Encode the itemid\n",
    "sampled_data['itemid'] = encoder.fit_transform(sampled_data['itemid'])\n"
   ]
  },
  {
   "cell_type": "code",
   "execution_count": 7,
   "metadata": {},
   "outputs": [
    {
     "data": {
      "text/html": [
       "<div>\n",
       "<style scoped>\n",
       "    .dataframe tbody tr th:only-of-type {\n",
       "        vertical-align: middle;\n",
       "    }\n",
       "\n",
       "    .dataframe tbody tr th {\n",
       "        vertical-align: top;\n",
       "    }\n",
       "\n",
       "    .dataframe thead th {\n",
       "        text-align: right;\n",
       "    }\n",
       "</style>\n",
       "<table border=\"1\" class=\"dataframe\">\n",
       "  <thead>\n",
       "    <tr style=\"text-align: right;\">\n",
       "      <th></th>\n",
       "      <th>timestamp</th>\n",
       "      <th>visitorid</th>\n",
       "      <th>event</th>\n",
       "      <th>itemid</th>\n",
       "      <th>session_id</th>\n",
       "      <th>global_session_id</th>\n",
       "      <th>time_since_session_start</th>\n",
       "      <th>interaction_type_id</th>\n",
       "    </tr>\n",
       "  </thead>\n",
       "  <tbody>\n",
       "    <tr>\n",
       "      <th>15</th>\n",
       "      <td>2015-07-13 16:29:23.786</td>\n",
       "      <td>36</td>\n",
       "      <td>view</td>\n",
       "      <td>18147</td>\n",
       "      <td>0</td>\n",
       "      <td>36:START:20150713162923:DUR:00205s</td>\n",
       "      <td>0.000000</td>\n",
       "      <td>3</td>\n",
       "    </tr>\n",
       "    <tr>\n",
       "      <th>16</th>\n",
       "      <td>2015-07-13 16:32:48.853</td>\n",
       "      <td>36</td>\n",
       "      <td>view</td>\n",
       "      <td>18147</td>\n",
       "      <td>0</td>\n",
       "      <td>36:START:20150713162923:DUR:00205s</td>\n",
       "      <td>0.041414</td>\n",
       "      <td>3</td>\n",
       "    </tr>\n",
       "    <tr>\n",
       "      <th>29</th>\n",
       "      <td>2015-06-22 15:38:37.948</td>\n",
       "      <td>65</td>\n",
       "      <td>view</td>\n",
       "      <td>5394</td>\n",
       "      <td>0</td>\n",
       "      <td>65:START:20150622153837:DUR:00051s</td>\n",
       "      <td>0.000000</td>\n",
       "      <td>3</td>\n",
       "    </tr>\n",
       "    <tr>\n",
       "      <th>30</th>\n",
       "      <td>2015-06-22 15:39:17.183</td>\n",
       "      <td>65</td>\n",
       "      <td>view</td>\n",
       "      <td>17379</td>\n",
       "      <td>0</td>\n",
       "      <td>65:START:20150622153837:DUR:00051s</td>\n",
       "      <td>0.007924</td>\n",
       "      <td>3</td>\n",
       "    </tr>\n",
       "    <tr>\n",
       "      <th>31</th>\n",
       "      <td>2015-06-22 15:39:23.298</td>\n",
       "      <td>65</td>\n",
       "      <td>view</td>\n",
       "      <td>5394</td>\n",
       "      <td>0</td>\n",
       "      <td>65:START:20150622153837:DUR:00051s</td>\n",
       "      <td>0.009159</td>\n",
       "      <td>3</td>\n",
       "    </tr>\n",
       "  </tbody>\n",
       "</table>\n",
       "</div>"
      ],
      "text/plain": [
       "                  timestamp  visitorid event  itemid  session_id  \\\n",
       "15  2015-07-13 16:29:23.786         36  view   18147           0   \n",
       "16  2015-07-13 16:32:48.853         36  view   18147           0   \n",
       "29  2015-06-22 15:38:37.948         65  view    5394           0   \n",
       "30  2015-06-22 15:39:17.183         65  view   17379           0   \n",
       "31  2015-06-22 15:39:23.298         65  view    5394           0   \n",
       "\n",
       "                     global_session_id  time_since_session_start  \\\n",
       "15  36:START:20150713162923:DUR:00205s                  0.000000   \n",
       "16  36:START:20150713162923:DUR:00205s                  0.041414   \n",
       "29  65:START:20150622153837:DUR:00051s                  0.000000   \n",
       "30  65:START:20150622153837:DUR:00051s                  0.007924   \n",
       "31  65:START:20150622153837:DUR:00051s                  0.009159   \n",
       "\n",
       "    interaction_type_id  \n",
       "15                    3  \n",
       "16                    3  \n",
       "29                    3  \n",
       "30                    3  \n",
       "31                    3  "
      ]
     },
     "execution_count": 7,
     "metadata": {},
     "output_type": "execute_result"
    }
   ],
   "source": [
    "sampled_data.head()"
   ]
  },
  {
   "cell_type": "code",
   "execution_count": 10,
   "metadata": {},
   "outputs": [
    {
     "name": "stderr",
     "output_type": "stream",
     "text": [
      "C:\\Users\\nafla\\AppData\\Local\\Temp\\ipykernel_19316\\2764809714.py:11: SettingWithCopyWarning: \n",
      "A value is trying to be set on a copy of a slice from a DataFrame\n",
      "\n",
      "See the caveats in the documentation: https://pandas.pydata.org/pandas-docs/stable/user_guide/indexing.html#returning-a-view-versus-a-copy\n",
      "  sampled_data.sort_values('timestamp', inplace=True)\n"
     ]
    }
   ],
   "source": [
    "from sklearn.preprocessing import MinMaxScaler\n",
    "import tensorflow as tf\n",
    "from tensorflow.keras.utils import to_categorical\n",
    "\n",
    "data['itemid'] = scaler.fit_transform(data[['itemid']])\n",
    "\n",
    "# Convert 'interaction_type_id' to categorical (one-hot encoded format)\n",
    "data['interaction_type_id'] = to_categorical(data['interaction_type_id'])\n",
    "\n",
    "# Assuming 'sampled_data' is already loaded and contains a 'timestamp' column\n",
    "sampled_data.sort_values('timestamp', inplace=True)\n",
    "\n",
    "# Calculate indices for splitting\n",
    "total_count = len(sampled_data)\n",
    "train_end = int(total_count * 0.70)\n",
    "validation_end = int(total_count * 0.85)\n",
    "\n",
    "# Split the data\n",
    "train_data = sampled_data[:train_end]\n",
    "validation_data = sampled_data[train_end:validation_end]\n",
    "test_data = sampled_data[validation_end:]"
   ]
  },
  {
   "cell_type": "code",
   "execution_count": 11,
   "metadata": {},
   "outputs": [
    {
     "name": "stdout",
     "output_type": "stream",
     "text": [
      "Minimum interactions in validation sequences: 1\n",
      "Minimum interactions in test sequences: 1\n"
     ]
    }
   ],
   "source": [
    "# Verify the minimum sequence length in validation and test sets\n",
    "min_validation_length = validation_data.groupby('global_session_id').size().min()\n",
    "min_test_length = test_data.groupby('global_session_id').size().min()\n",
    "\n",
    "print(f\"Minimum interactions in validation sequences: {min_validation_length}\")\n",
    "print(f\"Minimum interactions in test sequences: {min_test_length}\")\n"
   ]
  },
  {
   "cell_type": "code",
   "execution_count": 12,
   "metadata": {},
   "outputs": [
    {
     "data": {
      "text/html": [
       "<div>\n",
       "<style scoped>\n",
       "    .dataframe tbody tr th:only-of-type {\n",
       "        vertical-align: middle;\n",
       "    }\n",
       "\n",
       "    .dataframe tbody tr th {\n",
       "        vertical-align: top;\n",
       "    }\n",
       "\n",
       "    .dataframe thead th {\n",
       "        text-align: right;\n",
       "    }\n",
       "</style>\n",
       "<table border=\"1\" class=\"dataframe\">\n",
       "  <thead>\n",
       "    <tr style=\"text-align: right;\">\n",
       "      <th></th>\n",
       "      <th>timestamp</th>\n",
       "      <th>visitorid</th>\n",
       "      <th>event</th>\n",
       "      <th>itemid</th>\n",
       "      <th>session_id</th>\n",
       "      <th>global_session_id</th>\n",
       "      <th>time_since_session_start</th>\n",
       "      <th>interaction_type_id</th>\n",
       "    </tr>\n",
       "  </thead>\n",
       "  <tbody>\n",
       "    <tr>\n",
       "      <th>384073</th>\n",
       "      <td>2015-05-03 03:00:04.384</td>\n",
       "      <td>693516</td>\n",
       "      <td>addtocart</td>\n",
       "      <td>30968</td>\n",
       "      <td>0</td>\n",
       "      <td>693516:START:20150503030004:DUR:00025s</td>\n",
       "      <td>0.000000</td>\n",
       "      <td>1</td>\n",
       "    </tr>\n",
       "    <tr>\n",
       "      <th>384074</th>\n",
       "      <td>2015-05-03 03:00:26.228</td>\n",
       "      <td>693516</td>\n",
       "      <td>view</td>\n",
       "      <td>30968</td>\n",
       "      <td>0</td>\n",
       "      <td>693516:START:20150503030004:DUR:00025s</td>\n",
       "      <td>0.004411</td>\n",
       "      <td>3</td>\n",
       "    </tr>\n",
       "    <tr>\n",
       "      <th>384075</th>\n",
       "      <td>2015-05-03 03:00:29.427</td>\n",
       "      <td>693516</td>\n",
       "      <td>addtocart</td>\n",
       "      <td>30968</td>\n",
       "      <td>0</td>\n",
       "      <td>693516:START:20150503030004:DUR:00025s</td>\n",
       "      <td>0.005057</td>\n",
       "      <td>1</td>\n",
       "    </tr>\n",
       "    <tr>\n",
       "      <th>144845</th>\n",
       "      <td>2015-05-03 03:01:07.992</td>\n",
       "      <td>260113</td>\n",
       "      <td>view</td>\n",
       "      <td>13013</td>\n",
       "      <td>0</td>\n",
       "      <td>260113:START:20150503030107:DUR:00362s</td>\n",
       "      <td>0.000000</td>\n",
       "      <td>3</td>\n",
       "    </tr>\n",
       "    <tr>\n",
       "      <th>144846</th>\n",
       "      <td>2015-05-03 03:01:50.079</td>\n",
       "      <td>260113</td>\n",
       "      <td>view</td>\n",
       "      <td>5355</td>\n",
       "      <td>0</td>\n",
       "      <td>260113:START:20150503030107:DUR:00362s</td>\n",
       "      <td>0.008500</td>\n",
       "      <td>3</td>\n",
       "    </tr>\n",
       "  </tbody>\n",
       "</table>\n",
       "</div>"
      ],
      "text/plain": [
       "                      timestamp  visitorid      event  itemid  session_id  \\\n",
       "384073  2015-05-03 03:00:04.384     693516  addtocart   30968           0   \n",
       "384074  2015-05-03 03:00:26.228     693516       view   30968           0   \n",
       "384075  2015-05-03 03:00:29.427     693516  addtocart   30968           0   \n",
       "144845  2015-05-03 03:01:07.992     260113       view   13013           0   \n",
       "144846  2015-05-03 03:01:50.079     260113       view    5355           0   \n",
       "\n",
       "                             global_session_id  time_since_session_start  \\\n",
       "384073  693516:START:20150503030004:DUR:00025s                  0.000000   \n",
       "384074  693516:START:20150503030004:DUR:00025s                  0.004411   \n",
       "384075  693516:START:20150503030004:DUR:00025s                  0.005057   \n",
       "144845  260113:START:20150503030107:DUR:00362s                  0.000000   \n",
       "144846  260113:START:20150503030107:DUR:00362s                  0.008500   \n",
       "\n",
       "        interaction_type_id  \n",
       "384073                    1  \n",
       "384074                    3  \n",
       "384075                    1  \n",
       "144845                    3  \n",
       "144846                    3  "
      ]
     },
     "execution_count": 12,
     "metadata": {},
     "output_type": "execute_result"
    }
   ],
   "source": [
    "train_data.head()"
   ]
  },
  {
   "cell_type": "code",
   "execution_count": 15,
   "metadata": {},
   "outputs": [],
   "source": [
    "\n",
    "# Group data by 'global_session_id' and collect sequences\n",
    "grouped = train_data.groupby('global_session_id').agg(list)\n",
    "\n",
    "# Create sequences for training\n",
    "X = []\n",
    "y = []\n",
    "for session_id, group in grouped.iterrows():\n",
    "    inputs = np.column_stack((group['interaction_type_id'], group['itemid'], group['time_since_session_start']))\n",
    "    X.append(inputs[:-1])\n",
    "    y.append(inputs[1:])\n"
   ]
  },
  {
   "cell_type": "code",
   "execution_count": 16,
   "metadata": {},
   "outputs": [],
   "source": [
    "from tensorflow.keras.preprocessing.sequence import pad_sequences\n",
    "\n",
    "# Pad sequences\n",
    "X_padded = pad_sequences(X, padding='post', dtype='float32')\n",
    "y_padded = pad_sequences(y, padding='post', dtype='float32')"
   ]
  },
  {
   "cell_type": "code",
   "execution_count": 17,
   "metadata": {},
   "outputs": [
    {
     "name": "stderr",
     "output_type": "stream",
     "text": [
      "c:\\Users\\nafla\\anaconda3\\Lib\\site-packages\\keras\\src\\layers\\rnn\\rnn.py:204: UserWarning: Do not pass an `input_shape`/`input_dim` argument to a layer. When using Sequential models, prefer using an `Input(shape)` object as the first layer in the model instead.\n",
      "  super().__init__(**kwargs)\n"
     ]
    },
    {
     "data": {
      "text/html": [
       "<pre style=\"white-space:pre;overflow-x:auto;line-height:normal;font-family:Menlo,'DejaVu Sans Mono',consolas,'Courier New',monospace\"><span style=\"font-weight: bold\">Model: \"sequential\"</span>\n",
       "</pre>\n"
      ],
      "text/plain": [
       "\u001b[1mModel: \"sequential\"\u001b[0m\n"
      ]
     },
     "metadata": {},
     "output_type": "display_data"
    },
    {
     "data": {
      "text/html": [
       "<pre style=\"white-space:pre;overflow-x:auto;line-height:normal;font-family:Menlo,'DejaVu Sans Mono',consolas,'Courier New',monospace\">┏━━━━━━━━━━━━━━━━━━━━━━━━━━━━━━━━━┳━━━━━━━━━━━━━━━━━━━━━━━━┳━━━━━━━━━━━━━━━┓\n",
       "┃<span style=\"font-weight: bold\"> Layer (type)                    </span>┃<span style=\"font-weight: bold\"> Output Shape           </span>┃<span style=\"font-weight: bold\">       Param # </span>┃\n",
       "┡━━━━━━━━━━━━━━━━━━━━━━━━━━━━━━━━━╇━━━━━━━━━━━━━━━━━━━━━━━━╇━━━━━━━━━━━━━━━┩\n",
       "│ lstm (<span style=\"color: #0087ff; text-decoration-color: #0087ff\">LSTM</span>)                     │ (<span style=\"color: #00d7ff; text-decoration-color: #00d7ff\">None</span>, <span style=\"color: #00d7ff; text-decoration-color: #00d7ff\">None</span>, <span style=\"color: #00af00; text-decoration-color: #00af00\">50</span>)       │        <span style=\"color: #00af00; text-decoration-color: #00af00\">10,800</span> │\n",
       "├─────────────────────────────────┼────────────────────────┼───────────────┤\n",
       "│ lstm_1 (<span style=\"color: #0087ff; text-decoration-color: #0087ff\">LSTM</span>)                   │ (<span style=\"color: #00d7ff; text-decoration-color: #00d7ff\">None</span>, <span style=\"color: #00d7ff; text-decoration-color: #00d7ff\">None</span>, <span style=\"color: #00af00; text-decoration-color: #00af00\">50</span>)       │        <span style=\"color: #00af00; text-decoration-color: #00af00\">20,200</span> │\n",
       "├─────────────────────────────────┼────────────────────────┼───────────────┤\n",
       "│ time_distributed                │ (<span style=\"color: #00d7ff; text-decoration-color: #00d7ff\">None</span>, <span style=\"color: #00d7ff; text-decoration-color: #00d7ff\">None</span>, <span style=\"color: #00af00; text-decoration-color: #00af00\">3</span>)        │           <span style=\"color: #00af00; text-decoration-color: #00af00\">153</span> │\n",
       "│ (<span style=\"color: #0087ff; text-decoration-color: #0087ff\">TimeDistributed</span>)               │                        │               │\n",
       "└─────────────────────────────────┴────────────────────────┴───────────────┘\n",
       "</pre>\n"
      ],
      "text/plain": [
       "┏━━━━━━━━━━━━━━━━━━━━━━━━━━━━━━━━━┳━━━━━━━━━━━━━━━━━━━━━━━━┳━━━━━━━━━━━━━━━┓\n",
       "┃\u001b[1m \u001b[0m\u001b[1mLayer (type)                   \u001b[0m\u001b[1m \u001b[0m┃\u001b[1m \u001b[0m\u001b[1mOutput Shape          \u001b[0m\u001b[1m \u001b[0m┃\u001b[1m \u001b[0m\u001b[1m      Param #\u001b[0m\u001b[1m \u001b[0m┃\n",
       "┡━━━━━━━━━━━━━━━━━━━━━━━━━━━━━━━━━╇━━━━━━━━━━━━━━━━━━━━━━━━╇━━━━━━━━━━━━━━━┩\n",
       "│ lstm (\u001b[38;5;33mLSTM\u001b[0m)                     │ (\u001b[38;5;45mNone\u001b[0m, \u001b[38;5;45mNone\u001b[0m, \u001b[38;5;34m50\u001b[0m)       │        \u001b[38;5;34m10,800\u001b[0m │\n",
       "├─────────────────────────────────┼────────────────────────┼───────────────┤\n",
       "│ lstm_1 (\u001b[38;5;33mLSTM\u001b[0m)                   │ (\u001b[38;5;45mNone\u001b[0m, \u001b[38;5;45mNone\u001b[0m, \u001b[38;5;34m50\u001b[0m)       │        \u001b[38;5;34m20,200\u001b[0m │\n",
       "├─────────────────────────────────┼────────────────────────┼───────────────┤\n",
       "│ time_distributed                │ (\u001b[38;5;45mNone\u001b[0m, \u001b[38;5;45mNone\u001b[0m, \u001b[38;5;34m3\u001b[0m)        │           \u001b[38;5;34m153\u001b[0m │\n",
       "│ (\u001b[38;5;33mTimeDistributed\u001b[0m)               │                        │               │\n",
       "└─────────────────────────────────┴────────────────────────┴───────────────┘\n"
      ]
     },
     "metadata": {},
     "output_type": "display_data"
    },
    {
     "data": {
      "text/html": [
       "<pre style=\"white-space:pre;overflow-x:auto;line-height:normal;font-family:Menlo,'DejaVu Sans Mono',consolas,'Courier New',monospace\"><span style=\"font-weight: bold\"> Total params: </span><span style=\"color: #00af00; text-decoration-color: #00af00\">31,153</span> (121.69 KB)\n",
       "</pre>\n"
      ],
      "text/plain": [
       "\u001b[1m Total params: \u001b[0m\u001b[38;5;34m31,153\u001b[0m (121.69 KB)\n"
      ]
     },
     "metadata": {},
     "output_type": "display_data"
    },
    {
     "data": {
      "text/html": [
       "<pre style=\"white-space:pre;overflow-x:auto;line-height:normal;font-family:Menlo,'DejaVu Sans Mono',consolas,'Courier New',monospace\"><span style=\"font-weight: bold\"> Trainable params: </span><span style=\"color: #00af00; text-decoration-color: #00af00\">31,153</span> (121.69 KB)\n",
       "</pre>\n"
      ],
      "text/plain": [
       "\u001b[1m Trainable params: \u001b[0m\u001b[38;5;34m31,153\u001b[0m (121.69 KB)\n"
      ]
     },
     "metadata": {},
     "output_type": "display_data"
    },
    {
     "data": {
      "text/html": [
       "<pre style=\"white-space:pre;overflow-x:auto;line-height:normal;font-family:Menlo,'DejaVu Sans Mono',consolas,'Courier New',monospace\"><span style=\"font-weight: bold\"> Non-trainable params: </span><span style=\"color: #00af00; text-decoration-color: #00af00\">0</span> (0.00 B)\n",
       "</pre>\n"
      ],
      "text/plain": [
       "\u001b[1m Non-trainable params: \u001b[0m\u001b[38;5;34m0\u001b[0m (0.00 B)\n"
      ]
     },
     "metadata": {},
     "output_type": "display_data"
    }
   ],
   "source": [
    "from tensorflow.keras.models import Sequential\n",
    "from tensorflow.keras.layers import LSTM, Dense, TimeDistributed\n",
    "\n",
    "# Define model architecture\n",
    "model = Sequential([\n",
    "    LSTM(50, return_sequences=True, input_shape=(None, X_padded.shape[2])),\n",
    "    LSTM(50, return_sequences=True),\n",
    "    TimeDistributed(Dense(X_padded.shape[2], activation='softmax'))  # Predict the next interaction\n",
    "])\n",
    "\n",
    "model.compile(optimizer='adam', loss='categorical_crossentropy', metrics=['accuracy'])\n",
    "model.summary()"
   ]
  },
  {
   "cell_type": "code",
   "execution_count": 18,
   "metadata": {},
   "outputs": [
    {
     "name": "stdout",
     "output_type": "stream",
     "text": [
      "Epoch 1/10\n",
      "\u001b[1m1121/1121\u001b[0m \u001b[32m━━━━━━━━━━━━━━━━━━━━\u001b[0m\u001b[37m\u001b[0m \u001b[1m6s\u001b[0m 3ms/step - accuracy: 0.4787 - loss: 1252.3622 - val_accuracy: 0.4893 - val_loss: 14.7223\n",
      "Epoch 2/10\n",
      "\u001b[1m1121/1121\u001b[0m \u001b[32m━━━━━━━━━━━━━━━━━━━━\u001b[0m\u001b[37m\u001b[0m \u001b[1m4s\u001b[0m 3ms/step - accuracy: 0.4838 - loss: 14.5519 - val_accuracy: 0.4893 - val_loss: 14.6297\n",
      "Epoch 3/10\n",
      "\u001b[1m1121/1121\u001b[0m \u001b[32m━━━━━━━━━━━━━━━━━━━━\u001b[0m\u001b[37m\u001b[0m \u001b[1m3s\u001b[0m 3ms/step - accuracy: 0.4869 - loss: 14.5686 - val_accuracy: 0.4893 - val_loss: 14.5952\n",
      "Epoch 4/10\n",
      "\u001b[1m1121/1121\u001b[0m \u001b[32m━━━━━━━━━━━━━━━━━━━━\u001b[0m\u001b[37m\u001b[0m \u001b[1m3s\u001b[0m 3ms/step - accuracy: 0.4839 - loss: 14.4516 - val_accuracy: 0.4893 - val_loss: 14.5863\n",
      "Epoch 5/10\n",
      "\u001b[1m1121/1121\u001b[0m \u001b[32m━━━━━━━━━━━━━━━━━━━━\u001b[0m\u001b[37m\u001b[0m \u001b[1m3s\u001b[0m 3ms/step - accuracy: 0.4849 - loss: 14.4541 - val_accuracy: 0.4893 - val_loss: 14.5829\n",
      "Epoch 6/10\n",
      "\u001b[1m1121/1121\u001b[0m \u001b[32m━━━━━━━━━━━━━━━━━━━━\u001b[0m\u001b[37m\u001b[0m \u001b[1m3s\u001b[0m 3ms/step - accuracy: 0.4847 - loss: 14.4480 - val_accuracy: 0.4893 - val_loss: 14.5754\n",
      "Epoch 7/10\n",
      "\u001b[1m1121/1121\u001b[0m \u001b[32m━━━━━━━━━━━━━━━━━━━━\u001b[0m\u001b[37m\u001b[0m \u001b[1m4s\u001b[0m 4ms/step - accuracy: 0.4833 - loss: 14.4070 - val_accuracy: 0.4893 - val_loss: 14.5701\n",
      "Epoch 8/10\n",
      "\u001b[1m1121/1121\u001b[0m \u001b[32m━━━━━━━━━━━━━━━━━━━━\u001b[0m\u001b[37m\u001b[0m \u001b[1m4s\u001b[0m 3ms/step - accuracy: 0.4837 - loss: 14.4285 - val_accuracy: 0.4893 - val_loss: 14.5678\n",
      "Epoch 9/10\n",
      "\u001b[1m1121/1121\u001b[0m \u001b[32m━━━━━━━━━━━━━━━━━━━━\u001b[0m\u001b[37m\u001b[0m \u001b[1m4s\u001b[0m 3ms/step - accuracy: 0.4832 - loss: 14.3996 - val_accuracy: 0.4893 - val_loss: 14.5727\n",
      "Epoch 10/10\n",
      "\u001b[1m1121/1121\u001b[0m \u001b[32m━━━━━━━━━━━━━━━━━━━━\u001b[0m\u001b[37m\u001b[0m \u001b[1m3s\u001b[0m 3ms/step - accuracy: 0.4821 - loss: 14.3744 - val_accuracy: 0.4893 - val_loss: 14.5722\n"
     ]
    }
   ],
   "source": [
    "# Train the model\n",
    "history = model.fit(X_padded, y_padded, epochs=10, validation_split=0.2)"
   ]
  },
  {
   "cell_type": "code",
   "execution_count": 19,
   "metadata": {},
   "outputs": [
    {
     "name": "stdout",
     "output_type": "stream",
     "text": [
      "\u001b[1m1401/1401\u001b[0m \u001b[32m━━━━━━━━━━━━━━━━━━━━\u001b[0m\u001b[37m\u001b[0m \u001b[1m2s\u001b[0m 2ms/step - accuracy: 0.4850 - loss: 14.4586\n",
      "Test Accuracy: 0.48\n"
     ]
    }
   ],
   "source": [
    "# Evaluate the model\n",
    "test_loss, test_accuracy = model.evaluate(X_padded, y_padded)\n",
    "print(f\"Test Accuracy: {test_accuracy:.2f}\")"
   ]
  }
 ],
 "metadata": {
  "kernelspec": {
   "display_name": "base",
   "language": "python",
   "name": "python3"
  },
  "language_info": {
   "codemirror_mode": {
    "name": "ipython",
    "version": 3
   },
   "file_extension": ".py",
   "mimetype": "text/x-python",
   "name": "python",
   "nbconvert_exporter": "python",
   "pygments_lexer": "ipython3",
   "version": "3.11.4"
  }
 },
 "nbformat": 4,
 "nbformat_minor": 2
}

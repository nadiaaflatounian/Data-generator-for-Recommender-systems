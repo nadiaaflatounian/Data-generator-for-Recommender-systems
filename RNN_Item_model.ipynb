{
  "cells": [
    {
      "cell_type": "code",
      "execution_count": null,
      "metadata": {
        "id": "HUVPaB8ajUJT"
      },
      "outputs": [],
      "source": [
        "import pandas as pd\n",
        "import numpy as np\n",
        "from sklearn.preprocessing import LabelEncoder\n",
        "from tensorflow.keras.preprocessing.sequence import pad_sequences\n",
        "from tensorflow.keras.models import Model\n",
        "from tensorflow.keras.layers import Input, GRU, Dense, Embedding, Concatenate, Flatten\n",
        "from tensorflow.keras.callbacks import ReduceLROnPlateau, EarlyStopping\n",
        "import os\n",
        "from tensorflow.keras.callbacks import ModelCheckpoint\n",
        "from tensorflow.keras.callbacks import LearningRateScheduler, ReduceLROnPlateau\n",
        "from tensorflow.keras.models import load_model"
      ]
    },
    {
      "cell_type": "code",
      "execution_count": null,
      "metadata": {
        "colab": {
          "base_uri": "https://localhost:8080/"
        },
        "id": "Q_bTb2nhwa9Z",
        "outputId": "0f1d0a43-1319-42d3-dfc8-9f2b8083c2fe"
      },
      "outputs": [
        {
          "name": "stdout",
          "output_type": "stream",
          "text": [
            "Mounted at /content/drive\n"
          ]
        }
      ],
      "source": [
        "# this code is for working in colab\n",
        "from google.colab import drive\n",
        "drive.mount('/content/drive')"
      ]
    },
    {
      "cell_type": "code",
      "execution_count": null,
      "metadata": {
        "colab": {
          "base_uri": "https://localhost:8080/",
          "height": 313
        },
        "id": "nPHyBs59wcs2",
        "outputId": "556fbb54-8990-4433-b03b-8abf32c3d88e"
      },
      "outputs": [
        {
          "data": {
            "application/vnd.google.colaboratory.intrinsic+json": {
              "type": "dataframe",
              "variable_name": "data"
            },
            "text/html": [
              "\n",
              "  <div id=\"df-a18b5208-83c3-4e2d-b1c5-3b3161bc0bf7\" class=\"colab-df-container\">\n",
              "    <div>\n",
              "<style scoped>\n",
              "    .dataframe tbody tr th:only-of-type {\n",
              "        vertical-align: middle;\n",
              "    }\n",
              "\n",
              "    .dataframe tbody tr th {\n",
              "        vertical-align: top;\n",
              "    }\n",
              "\n",
              "    .dataframe thead th {\n",
              "        text-align: right;\n",
              "    }\n",
              "</style>\n",
              "<table border=\"1\" class=\"dataframe\">\n",
              "  <thead>\n",
              "    <tr style=\"text-align: right;\">\n",
              "      <th></th>\n",
              "      <th>timestamp</th>\n",
              "      <th>visitorid</th>\n",
              "      <th>event</th>\n",
              "      <th>itemid</th>\n",
              "      <th>category</th>\n",
              "      <th>global_session_id</th>\n",
              "      <th>interaction_type_id</th>\n",
              "      <th>time_since_last_interaction_logscaled</th>\n",
              "      <th>item_preference_logscaled</th>\n",
              "      <th>item_popularity_logscaled</th>\n",
              "      <th>time_since_session_start_logscaled</th>\n",
              "      <th>session_duration_logscaled</th>\n",
              "    </tr>\n",
              "  </thead>\n",
              "  <tbody>\n",
              "    <tr>\n",
              "      <th>0</th>\n",
              "      <td>2015-09-11 20:49:49.439</td>\n",
              "      <td>0</td>\n",
              "      <td>view</td>\n",
              "      <td>285930</td>\n",
              "      <td>1188</td>\n",
              "      <td>0:START:20150911204949:DUR:00327s</td>\n",
              "      <td>3</td>\n",
              "      <td>0.189860</td>\n",
              "      <td>0.080446</td>\n",
              "      <td>0.229065</td>\n",
              "      <td>0.289316</td>\n",
              "      <td>0.468937</td>\n",
              "    </tr>\n",
              "    <tr>\n",
              "      <th>1</th>\n",
              "      <td>2015-09-11 20:52:39.591</td>\n",
              "      <td>0</td>\n",
              "      <td>view</td>\n",
              "      <td>357564</td>\n",
              "      <td>256</td>\n",
              "      <td>0:START:20150911204949:DUR:00327s</td>\n",
              "      <td>3</td>\n",
              "      <td>0.000000</td>\n",
              "      <td>0.000000</td>\n",
              "      <td>0.883486</td>\n",
              "      <td>0.000000</td>\n",
              "      <td>0.000000</td>\n",
              "    </tr>\n",
              "    <tr>\n",
              "      <th>2</th>\n",
              "      <td>2015-09-11 20:55:17.175</td>\n",
              "      <td>0</td>\n",
              "      <td>view</td>\n",
              "      <td>67045</td>\n",
              "      <td>333</td>\n",
              "      <td>0:START:20150911204949:DUR:00327s</td>\n",
              "      <td>3</td>\n",
              "      <td>0.000000</td>\n",
              "      <td>0.000000</td>\n",
              "      <td>0.738648</td>\n",
              "      <td>0.000000</td>\n",
              "      <td>0.000000</td>\n",
              "    </tr>\n",
              "    <tr>\n",
              "      <th>3</th>\n",
              "      <td>2015-08-07 17:51:44.567</td>\n",
              "      <td>2</td>\n",
              "      <td>view</td>\n",
              "      <td>325215</td>\n",
              "      <td>299</td>\n",
              "      <td>2:START:20150807175144:DUR:01753s</td>\n",
              "      <td>3</td>\n",
              "      <td>0.244409</td>\n",
              "      <td>0.298417</td>\n",
              "      <td>0.684853</td>\n",
              "      <td>0.657039</td>\n",
              "      <td>0.677851</td>\n",
              "    </tr>\n",
              "    <tr>\n",
              "      <th>4</th>\n",
              "      <td>2015-08-07 17:53:33.790</td>\n",
              "      <td>2</td>\n",
              "      <td>view</td>\n",
              "      <td>325215</td>\n",
              "      <td>299</td>\n",
              "      <td>2:START:20150807175144:DUR:01753s</td>\n",
              "      <td>3</td>\n",
              "      <td>0.000000</td>\n",
              "      <td>0.000000</td>\n",
              "      <td>0.287558</td>\n",
              "      <td>0.000000</td>\n",
              "      <td>0.000000</td>\n",
              "    </tr>\n",
              "  </tbody>\n",
              "</table>\n",
              "</div>\n",
              "    <div class=\"colab-df-buttons\">\n",
              "\n",
              "  <div class=\"colab-df-container\">\n",
              "    <button class=\"colab-df-convert\" onclick=\"convertToInteractive('df-a18b5208-83c3-4e2d-b1c5-3b3161bc0bf7')\"\n",
              "            title=\"Convert this dataframe to an interactive table.\"\n",
              "            style=\"display:none;\">\n",
              "\n",
              "  <svg xmlns=\"http://www.w3.org/2000/svg\" height=\"24px\" viewBox=\"0 -960 960 960\">\n",
              "    <path d=\"M120-120v-720h720v720H120Zm60-500h600v-160H180v160Zm220 220h160v-160H400v160Zm0 220h160v-160H400v160ZM180-400h160v-160H180v160Zm440 0h160v-160H620v160ZM180-180h160v-160H180v160Zm440 0h160v-160H620v160Z\"/>\n",
              "  </svg>\n",
              "    </button>\n",
              "\n",
              "  <style>\n",
              "    .colab-df-container {\n",
              "      display:flex;\n",
              "      gap: 12px;\n",
              "    }\n",
              "\n",
              "    .colab-df-convert {\n",
              "      background-color: #E8F0FE;\n",
              "      border: none;\n",
              "      border-radius: 50%;\n",
              "      cursor: pointer;\n",
              "      display: none;\n",
              "      fill: #1967D2;\n",
              "      height: 32px;\n",
              "      padding: 0 0 0 0;\n",
              "      width: 32px;\n",
              "    }\n",
              "\n",
              "    .colab-df-convert:hover {\n",
              "      background-color: #E2EBFA;\n",
              "      box-shadow: 0px 1px 2px rgba(60, 64, 67, 0.3), 0px 1px 3px 1px rgba(60, 64, 67, 0.15);\n",
              "      fill: #174EA6;\n",
              "    }\n",
              "\n",
              "    .colab-df-buttons div {\n",
              "      margin-bottom: 4px;\n",
              "    }\n",
              "\n",
              "    [theme=dark] .colab-df-convert {\n",
              "      background-color: #3B4455;\n",
              "      fill: #D2E3FC;\n",
              "    }\n",
              "\n",
              "    [theme=dark] .colab-df-convert:hover {\n",
              "      background-color: #434B5C;\n",
              "      box-shadow: 0px 1px 3px 1px rgba(0, 0, 0, 0.15);\n",
              "      filter: drop-shadow(0px 1px 2px rgba(0, 0, 0, 0.3));\n",
              "      fill: #FFFFFF;\n",
              "    }\n",
              "  </style>\n",
              "\n",
              "    <script>\n",
              "      const buttonEl =\n",
              "        document.querySelector('#df-a18b5208-83c3-4e2d-b1c5-3b3161bc0bf7 button.colab-df-convert');\n",
              "      buttonEl.style.display =\n",
              "        google.colab.kernel.accessAllowed ? 'block' : 'none';\n",
              "\n",
              "      async function convertToInteractive(key) {\n",
              "        const element = document.querySelector('#df-a18b5208-83c3-4e2d-b1c5-3b3161bc0bf7');\n",
              "        const dataTable =\n",
              "          await google.colab.kernel.invokeFunction('convertToInteractive',\n",
              "                                                    [key], {});\n",
              "        if (!dataTable) return;\n",
              "\n",
              "        const docLinkHtml = 'Like what you see? Visit the ' +\n",
              "          '<a target=\"_blank\" href=https://colab.research.google.com/notebooks/data_table.ipynb>data table notebook</a>'\n",
              "          + ' to learn more about interactive tables.';\n",
              "        element.innerHTML = '';\n",
              "        dataTable['output_type'] = 'display_data';\n",
              "        await google.colab.output.renderOutput(dataTable, element);\n",
              "        const docLink = document.createElement('div');\n",
              "        docLink.innerHTML = docLinkHtml;\n",
              "        element.appendChild(docLink);\n",
              "      }\n",
              "    </script>\n",
              "  </div>\n",
              "\n",
              "\n",
              "<div id=\"df-b0be42b1-00b4-4b76-afce-2b5c079b74dd\">\n",
              "  <button class=\"colab-df-quickchart\" onclick=\"quickchart('df-b0be42b1-00b4-4b76-afce-2b5c079b74dd')\"\n",
              "            title=\"Suggest charts\"\n",
              "            style=\"display:none;\">\n",
              "\n",
              "<svg xmlns=\"http://www.w3.org/2000/svg\" height=\"24px\"viewBox=\"0 0 24 24\"\n",
              "     width=\"24px\">\n",
              "    <g>\n",
              "        <path d=\"M19 3H5c-1.1 0-2 .9-2 2v14c0 1.1.9 2 2 2h14c1.1 0 2-.9 2-2V5c0-1.1-.9-2-2-2zM9 17H7v-7h2v7zm4 0h-2V7h2v10zm4 0h-2v-4h2v4z\"/>\n",
              "    </g>\n",
              "</svg>\n",
              "  </button>\n",
              "\n",
              "<style>\n",
              "  .colab-df-quickchart {\n",
              "      --bg-color: #E8F0FE;\n",
              "      --fill-color: #1967D2;\n",
              "      --hover-bg-color: #E2EBFA;\n",
              "      --hover-fill-color: #174EA6;\n",
              "      --disabled-fill-color: #AAA;\n",
              "      --disabled-bg-color: #DDD;\n",
              "  }\n",
              "\n",
              "  [theme=dark] .colab-df-quickchart {\n",
              "      --bg-color: #3B4455;\n",
              "      --fill-color: #D2E3FC;\n",
              "      --hover-bg-color: #434B5C;\n",
              "      --hover-fill-color: #FFFFFF;\n",
              "      --disabled-bg-color: #3B4455;\n",
              "      --disabled-fill-color: #666;\n",
              "  }\n",
              "\n",
              "  .colab-df-quickchart {\n",
              "    background-color: var(--bg-color);\n",
              "    border: none;\n",
              "    border-radius: 50%;\n",
              "    cursor: pointer;\n",
              "    display: none;\n",
              "    fill: var(--fill-color);\n",
              "    height: 32px;\n",
              "    padding: 0;\n",
              "    width: 32px;\n",
              "  }\n",
              "\n",
              "  .colab-df-quickchart:hover {\n",
              "    background-color: var(--hover-bg-color);\n",
              "    box-shadow: 0 1px 2px rgba(60, 64, 67, 0.3), 0 1px 3px 1px rgba(60, 64, 67, 0.15);\n",
              "    fill: var(--button-hover-fill-color);\n",
              "  }\n",
              "\n",
              "  .colab-df-quickchart-complete:disabled,\n",
              "  .colab-df-quickchart-complete:disabled:hover {\n",
              "    background-color: var(--disabled-bg-color);\n",
              "    fill: var(--disabled-fill-color);\n",
              "    box-shadow: none;\n",
              "  }\n",
              "\n",
              "  .colab-df-spinner {\n",
              "    border: 2px solid var(--fill-color);\n",
              "    border-color: transparent;\n",
              "    border-bottom-color: var(--fill-color);\n",
              "    animation:\n",
              "      spin 1s steps(1) infinite;\n",
              "  }\n",
              "\n",
              "  @keyframes spin {\n",
              "    0% {\n",
              "      border-color: transparent;\n",
              "      border-bottom-color: var(--fill-color);\n",
              "      border-left-color: var(--fill-color);\n",
              "    }\n",
              "    20% {\n",
              "      border-color: transparent;\n",
              "      border-left-color: var(--fill-color);\n",
              "      border-top-color: var(--fill-color);\n",
              "    }\n",
              "    30% {\n",
              "      border-color: transparent;\n",
              "      border-left-color: var(--fill-color);\n",
              "      border-top-color: var(--fill-color);\n",
              "      border-right-color: var(--fill-color);\n",
              "    }\n",
              "    40% {\n",
              "      border-color: transparent;\n",
              "      border-right-color: var(--fill-color);\n",
              "      border-top-color: var(--fill-color);\n",
              "    }\n",
              "    60% {\n",
              "      border-color: transparent;\n",
              "      border-right-color: var(--fill-color);\n",
              "    }\n",
              "    80% {\n",
              "      border-color: transparent;\n",
              "      border-right-color: var(--fill-color);\n",
              "      border-bottom-color: var(--fill-color);\n",
              "    }\n",
              "    90% {\n",
              "      border-color: transparent;\n",
              "      border-bottom-color: var(--fill-color);\n",
              "    }\n",
              "  }\n",
              "</style>\n",
              "\n",
              "  <script>\n",
              "    async function quickchart(key) {\n",
              "      const quickchartButtonEl =\n",
              "        document.querySelector('#' + key + ' button');\n",
              "      quickchartButtonEl.disabled = true;  // To prevent multiple clicks.\n",
              "      quickchartButtonEl.classList.add('colab-df-spinner');\n",
              "      try {\n",
              "        const charts = await google.colab.kernel.invokeFunction(\n",
              "            'suggestCharts', [key], {});\n",
              "      } catch (error) {\n",
              "        console.error('Error during call to suggestCharts:', error);\n",
              "      }\n",
              "      quickchartButtonEl.classList.remove('colab-df-spinner');\n",
              "      quickchartButtonEl.classList.add('colab-df-quickchart-complete');\n",
              "    }\n",
              "    (() => {\n",
              "      let quickchartButtonEl =\n",
              "        document.querySelector('#df-b0be42b1-00b4-4b76-afce-2b5c079b74dd button');\n",
              "      quickchartButtonEl.style.display =\n",
              "        google.colab.kernel.accessAllowed ? 'block' : 'none';\n",
              "    })();\n",
              "  </script>\n",
              "</div>\n",
              "    </div>\n",
              "  </div>\n"
            ],
            "text/plain": [
              "                 timestamp  visitorid event  itemid category  \\\n",
              "0  2015-09-11 20:49:49.439          0  view  285930     1188   \n",
              "1  2015-09-11 20:52:39.591          0  view  357564      256   \n",
              "2  2015-09-11 20:55:17.175          0  view   67045      333   \n",
              "3  2015-08-07 17:51:44.567          2  view  325215      299   \n",
              "4  2015-08-07 17:53:33.790          2  view  325215      299   \n",
              "\n",
              "                   global_session_id  interaction_type_id  \\\n",
              "0  0:START:20150911204949:DUR:00327s                    3   \n",
              "1  0:START:20150911204949:DUR:00327s                    3   \n",
              "2  0:START:20150911204949:DUR:00327s                    3   \n",
              "3  2:START:20150807175144:DUR:01753s                    3   \n",
              "4  2:START:20150807175144:DUR:01753s                    3   \n",
              "\n",
              "   time_since_last_interaction_logscaled  item_preference_logscaled  \\\n",
              "0                               0.189860                   0.080446   \n",
              "1                               0.000000                   0.000000   \n",
              "2                               0.000000                   0.000000   \n",
              "3                               0.244409                   0.298417   \n",
              "4                               0.000000                   0.000000   \n",
              "\n",
              "   item_popularity_logscaled  time_since_session_start_logscaled  \\\n",
              "0                   0.229065                            0.289316   \n",
              "1                   0.883486                            0.000000   \n",
              "2                   0.738648                            0.000000   \n",
              "3                   0.684853                            0.657039   \n",
              "4                   0.287558                            0.000000   \n",
              "\n",
              "   session_duration_logscaled  \n",
              "0                    0.468937  \n",
              "1                    0.000000  \n",
              "2                    0.000000  \n",
              "3                    0.677851  \n",
              "4                    0.000000  "
            ]
          },
          "execution_count": 3,
          "metadata": {},
          "output_type": "execute_result"
        }
      ],
      "source": [
        "# Replace with the actual path to your CSV file in your Drive\n",
        "csv_path = '/content/drive/MyDrive/retailrocket/filtered_sessions.csv'\n",
        "data = pd.read_csv(csv_path)\n",
        "data.head()"
      ]
    },
    {
      "cell_type": "code",
      "execution_count": null,
      "metadata": {
        "id": "0Wg6EBi5wq0d"
      },
      "outputs": [],
      "source": [
        "# Sort data\n",
        "data['timestamp'] = pd.to_datetime(data['timestamp'])\n",
        "data.sort_values(by=['visitorid', 'timestamp'], inplace=True)\n",
        "\n",
        "# Encode the user IDs and interaction types as integers\n",
        "user_encoder = LabelEncoder()\n",
        "data['user_id_encoded'] = user_encoder.fit_transform(data['visitorid'])\n",
        "\n",
        "\n",
        "# Encode 'interaction_type_id'\n",
        "item_types = data['itemid'].unique().tolist()\n",
        "item_encoder = LabelEncoder()\n",
        "item_encoder.fit(item_types)\n",
        "\n",
        "# transform  data with this updated encoder\n",
        "data['itemid_encoded'] = item_encoder.transform(data['itemid'])\n",
        "\n",
        "# Encode categories\n",
        "category_types = data['category'].unique().tolist()\n",
        "category_encoder = LabelEncoder()\n",
        "category_encoder.fit(category_types)\n",
        "\n",
        "# transform  data with this updated encoder\n",
        "data['category_encoded'] = category_encoder.transform(data['category'])"
      ]
    },
    {
      "cell_type": "code",
      "execution_count": null,
      "metadata": {
        "id": "Emd9NChkxBVi"
      },
      "outputs": [],
      "source": [
        "# sort data\n",
        "data.sort_values(by=['visitorid', 'timestamp'], inplace=True)\n",
        "\n",
        "# set cutoff poin\n",
        "train_cutoff = data['timestamp'].quantile(0.70)\n",
        "val_test_cutoff = data['timestamp'].quantile(0.85)\n",
        "\n",
        "# Assign sessions to train, validation, or test set based on the cutoff dates\n",
        "train_sessions = data[data['timestamp'] < train_cutoff]['global_session_id'].unique()\n",
        "val_test_sessions = data[(data['timestamp'] >= train_cutoff) & (data['timestamp'] < val_test_cutoff)]['global_session_id'].unique()\n",
        "test_sessions = data[data['timestamp'] >= val_test_cutoff]['global_session_id'].unique()\n",
        "\n",
        "# Create train, validation, and test datasets\n",
        "train_data = data[data['global_session_id'].isin(train_sessions)]\n",
        "val_data = data[data['global_session_id'].isin(val_test_sessions)]\n",
        "test_data = data[data['global_session_id'].isin(test_sessions)]\n"
      ]
    },
    {
      "cell_type": "code",
      "execution_count": null,
      "metadata": {
        "colab": {
          "base_uri": "https://localhost:8080/"
        },
        "id": "KIT0wfwu3VBD",
        "outputId": "eaa34b08-4e91-4a2b-a67d-460339ecd18b"
      },
      "outputs": [
        {
          "name": "stdout",
          "output_type": "stream",
          "text": [
            "Number of unique sessions in the train dataset: 118983\n",
            "Maximum sequence length in the dataset: 99\n"
          ]
        }
      ],
      "source": [
        "# Count the number of unique sessions in the train dataset\n",
        "unique_sessions_train = train_data['global_session_id'].nunique()\n",
        "\n",
        "# Print the number of unique sessions\n",
        "print(\"Number of unique sessions in the train dataset:\", unique_sessions_train)\n",
        "# Calculate the maximum sequence length across all sessions\n",
        "max_sequence_length = data.groupby(['visitorid', 'global_session_id']).size().max()\n",
        "print(f\"Maximum sequence length in the dataset: {max_sequence_length}\")"
      ]
    },
    {
      "cell_type": "code",
      "execution_count": null,
      "metadata": {
        "id": "HEh0ChpkvjJ_"
      },
      "outputs": [],
      "source": [
        "\n",
        "def prepare_session_data(data, max_length):\n",
        "    \"\"\"\n",
        "    Prepares session data for input into an RNN model.\n",
        "\n",
        "    Args:\n",
        "    - data (DataFrame): The DataFrame containing session data with interaction features.\n",
        "    - max_length (int): The maximum sequence length for padding.\n",
        "\n",
        "    Returns:\n",
        "    - X (ndarray): The array of input features, shaped to fit the RNN.\n",
        "    - y (ndarray): The array of target values (next item IDs).\n",
        "    \"\"\"\n",
        "    grouped = data.groupby(['visitorid', 'global_session_id'])\n",
        "    X, y = [], []\n",
        "\n",
        "    # Iterate over each group (session)\n",
        "    for (_, session_df) in grouped:\n",
        "        # Create sequences of item IDs and categories, along with other features\n",
        "        features = session_df[['itemid_encoded', 'category_encoded', 'item_popularity_logscaled'\n",
        "                                ]].values\n",
        "\n",
        "        # Generate sequences for the model\n",
        "        for i in range(len(features) - 1):\n",
        "            current_sequence = features[:i+1]\n",
        "            next_item = features[i+1, 0]\n",
        "\n",
        "            # Padding or truncating the sequence\n",
        "            if len(current_sequence) < max_length:\n",
        "                padded_sequence = np.pad(current_sequence, ((max_length - len(current_sequence), 0), (0, 0)), 'constant')\n",
        "            else:\n",
        "                padded_sequence = current_sequence[-max_length:]\n",
        "\n",
        "            X.append(padded_sequence)\n",
        "            y.append(next_item)\n",
        "\n",
        "    return np.array(X), np.array(y)\n",
        "\n"
      ]
    },
    {
      "cell_type": "code",
      "execution_count": null,
      "metadata": {
        "id": "mjEdwpPk3d7q"
      },
      "outputs": [],
      "source": [
        "# Prepare training data\n",
        "X_train,  y_train  = prepare_session_data(train_data, max_length=max_sequence_length)\n",
        "\n",
        "\n",
        "# Prepare validation data\n",
        "X_val, y_val = prepare_session_data(val_data, max_length=max_sequence_length)\n",
        "\n",
        "\n",
        "# Prepare test data\n",
        "X_test,  y_test = prepare_session_data(test_data, max_length=max_sequence_length)\n",
        "\n"
      ]
    },
    {
      "cell_type": "code",
      "execution_count": null,
      "metadata": {
        "colab": {
          "base_uri": "https://localhost:8080/"
        },
        "id": "EhorQcyT6i7V",
        "outputId": "773c258d-e6f6-41f5-9f67-f89abfb63ee2"
      },
      "outputs": [
        {
          "name": "stdout",
          "output_type": "stream",
          "text": [
            "Model: \"model\"\n",
            "__________________________________________________________________________________________________\n",
            " Layer (type)                Output Shape                 Param #   Connected to                  \n",
            "==================================================================================================\n",
            " feature_input (InputLayer)  [(None, None, 3)]            0         []                            \n",
            "                                                                                                  \n",
            " tf.__operators__.getitem (  (None, None)                 0         ['feature_input[0][0]']       \n",
            " SlicingOpLambda)                                                                                 \n",
            "                                                                                                  \n",
            " tf.__operators__.getitem_1  (None, None)                 0         ['feature_input[0][0]']       \n",
            "  (SlicingOpLambda)                                                                               \n",
            "                                                                                                  \n",
            " item_embedding (Embedding)  (None, None, 50)             4906800   ['tf.__operators__.getitem[0][\n",
            "                                                                    0]']                          \n",
            "                                                                                                  \n",
            " category_embedding (Embedd  (None, None, 25)             26375     ['tf.__operators__.getitem_1[0\n",
            " ing)                                                               ][0]']                        \n",
            "                                                                                                  \n",
            " tf.__operators__.getitem_2  (None, None, 1)              0         ['feature_input[0][0]']       \n",
            "  (SlicingOpLambda)                                                                               \n",
            "                                                                                                  \n",
            " concatenate (Concatenate)   (None, None, 76)             0         ['item_embedding[0][0]',      \n",
            "                                                                     'category_embedding[0][0]',  \n",
            "                                                                     'tf.__operators__.getitem_2[0\n",
            "                                                                    ][0]']                        \n",
            "                                                                                                  \n",
            " gru (GRU)                   (None, 128)                  79104     ['concatenate[0][0]']         \n",
            "                                                                                                  \n",
            " dense (Dense)               (None, 98136)                1265954   ['gru[0][0]']                 \n",
            "                                                          4                                       \n",
            "                                                                                                  \n",
            "==================================================================================================\n",
            "Total params: 17671823 (67.41 MB)\n",
            "Trainable params: 17671823 (67.41 MB)\n",
            "Non-trainable params: 0 (0.00 Byte)\n",
            "__________________________________________________________________________________________________\n"
          ]
        }
      ],
      "source": [
        "# set number of classes\n",
        "num_items = len(item_encoder.classes_)\n",
        "num_categories = len(category_encoder.classes_)\n",
        "\n",
        "# Define the input shape, expecting 3 features per time step, adjust if more features are present\n",
        "feature_input = Input(shape=(None, 3), dtype='float32', name='feature_input')\n",
        "\n",
        "# Embed item IDs; 'itemid_encoded' assumed to be the first feature in the sequence\n",
        "item_embedding_layer = Embedding(input_dim=num_items, output_dim=50, name='item_embedding')\n",
        "item_embedding = item_embedding_layer(feature_input[:, :, 0])\n",
        "\n",
        "# Embed categories; 'category_encoded' assumed to be the second feature in the sequence\n",
        "category_embedding_layer = Embedding(input_dim=num_categories, output_dim=25, name='category_embedding')  # Smaller embedding size for categories\n",
        "category_embedding = category_embedding_layer(feature_input[:, :, 1])\n",
        "\n",
        "# Concatenate item and category embeddings with other numerical/log-scaled features\n",
        "concat_features = Concatenate()([item_embedding, category_embedding, feature_input[:, :, 2:]])\n",
        "\n",
        "# GRU layer to process the sequence of embeddings and numerical features\n",
        "gru_layer = GRU(128, return_sequences=False)(concat_features)\n",
        "\n",
        "# Output layer with a softmax activation to predict the next item ID\n",
        "output_layer = Dense(num_items, activation='softmax')(gru_layer)\n",
        "\n",
        "# Construct the model\n",
        "model = Model(inputs=feature_input, outputs=output_layer)\n",
        "model.compile(optimizer='adam', loss='sparse_categorical_crossentropy', metrics=['accuracy'])\n",
        "\n",
        "# Early stopping to prevent overfitting\n",
        "early_stopping = EarlyStopping(monitor='val_loss', patience=3, restore_best_weights=True)\n",
        "# Reduce learning rate when a metric has stopped improving\n",
        "lr_reduction = ReduceLROnPlateau(monitor='val_loss', factor=0.1, patience=3)\n",
        "\n",
        "# Print the model summary to understand its structure\n",
        "model.summary()\n"
      ]
    },
    {
      "cell_type": "code",
      "execution_count": null,
      "metadata": {
        "id": "xsuw2ITI7sHG"
      },
      "outputs": [],
      "source": [
        "\n",
        "# Path to  GitHub repository on  local machine\n",
        "repo_path = \"C:/Users/nafla/OneDrive/Documents/GitHub/Data-generator-for-RS\"\n",
        "model_dir = os.path.join(repo_path, \"models\")\n",
        "os.makedirs(model_dir, exist_ok=True)  # Ensure the directory exists\n",
        "\n",
        "# Specify the filepath including the required suffix\n",
        "checkpoint_filepath = os.path.join(model_dir, 'item_model_checkpoint.weights.h5')\n",
        "\n",
        "# Setup the ModelCheckpoint callback\n",
        "checkpoint_callback = ModelCheckpoint(\n",
        "    filepath=checkpoint_filepath,\n",
        "    save_weights_only=True,\n",
        "    monitor='val_accuracy',\n",
        "    mode='max',\n",
        "    save_best_only=True,\n",
        "    verbose=1\n",
        ")\n",
        "\n",
        "\n"
      ]
    },
    {
      "cell_type": "code",
      "execution_count": null,
      "metadata": {
        "colab": {
          "base_uri": "https://localhost:8080/"
        },
        "id": "zrygFoGQ746V",
        "outputId": "85c3e375-2961-4c8d-96da-333378e9026d"
      },
      "outputs": [
        {
          "name": "stdout",
          "output_type": "stream",
          "text": [
            "Epoch 1/10\n",
            "8361/8362 [============================>.] - ETA: 0s - loss: 8.7655 - accuracy: 0.0450\n",
            "Epoch 1: val_accuracy improved from -inf to 0.06324, saving model to C:/Users/nafla/OneDrive/Documents/GitHub/Data-generator-for-RS/models/item_model_checkpoint.weights.h5\n",
            "8362/8362 [==============================] - 319s 38ms/step - loss: 8.7654 - accuracy: 0.0450 - val_loss: 8.6767 - val_accuracy: 0.0632 - lr: 0.0010\n",
            "Epoch 2/10\n",
            "8361/8362 [============================>.] - ETA: 0s - loss: 6.1303 - accuracy: 0.1525\n",
            "Epoch 2: val_accuracy improved from 0.06324 to 0.09665, saving model to C:/Users/nafla/OneDrive/Documents/GitHub/Data-generator-for-RS/models/item_model_checkpoint.weights.h5\n",
            "8362/8362 [==============================] - 246s 29ms/step - loss: 6.1302 - accuracy: 0.1525 - val_loss: 8.2844 - val_accuracy: 0.0967 - lr: 0.0010\n",
            "Epoch 3/10\n",
            "8361/8362 [============================>.] - ETA: 0s - loss: 5.0850 - accuracy: 0.2151\n",
            "Epoch 3: val_accuracy improved from 0.09665 to 0.11242, saving model to C:/Users/nafla/OneDrive/Documents/GitHub/Data-generator-for-RS/models/item_model_checkpoint.weights.h5\n",
            "8362/8362 [==============================] - 243s 29ms/step - loss: 5.0850 - accuracy: 0.2151 - val_loss: 8.2277 - val_accuracy: 0.1124 - lr: 0.0010\n",
            "Epoch 4/10\n",
            "8361/8362 [============================>.] - ETA: 0s - loss: 4.4425 - accuracy: 0.2571\n",
            "Epoch 4: val_accuracy improved from 0.11242 to 0.11671, saving model to C:/Users/nafla/OneDrive/Documents/GitHub/Data-generator-for-RS/models/item_model_checkpoint.weights.h5\n",
            "8362/8362 [==============================] - 241s 29ms/step - loss: 4.4425 - accuracy: 0.2571 - val_loss: 8.2609 - val_accuracy: 0.1167 - lr: 0.0010\n",
            "Epoch 5/10\n",
            "8362/8362 [==============================] - ETA: 0s - loss: 3.9727 - accuracy: 0.2902\n",
            "Epoch 5: val_accuracy improved from 0.11671 to 0.11897, saving model to C:/Users/nafla/OneDrive/Documents/GitHub/Data-generator-for-RS/models/item_model_checkpoint.weights.h5\n",
            "8362/8362 [==============================] - 241s 29ms/step - loss: 3.9727 - accuracy: 0.2902 - val_loss: 8.3320 - val_accuracy: 0.1190 - lr: 0.0010\n",
            "Epoch 6/10\n",
            "8361/8362 [============================>.] - ETA: 0s - loss: 3.6024 - accuracy: 0.3198\n",
            "Epoch 6: val_accuracy did not improve from 0.11897\n",
            "8362/8362 [==============================] - 255s 30ms/step - loss: 3.6024 - accuracy: 0.3198 - val_loss: 8.4243 - val_accuracy: 0.1151 - lr: 0.0010\n",
            "Epoch 7/10\n",
            "8361/8362 [============================>.] - ETA: 0s - loss: 2.7297 - accuracy: 0.4417\n",
            "Epoch 7: val_accuracy improved from 0.11897 to 0.13386, saving model to C:/Users/nafla/OneDrive/Documents/GitHub/Data-generator-for-RS/models/item_model_checkpoint.weights.h5\n",
            "8362/8362 [==============================] - 242s 29ms/step - loss: 2.7297 - accuracy: 0.4416 - val_loss: 8.2619 - val_accuracy: 0.1339 - lr: 1.0000e-04\n",
            "Epoch 8/10\n",
            "8362/8362 [==============================] - ETA: 0s - loss: 2.6085 - accuracy: 0.4665\n",
            "Epoch 8: val_accuracy improved from 0.13386 to 0.13395, saving model to C:/Users/nafla/OneDrive/Documents/GitHub/Data-generator-for-RS/models/item_model_checkpoint.weights.h5\n",
            "8362/8362 [==============================] - 254s 30ms/step - loss: 2.6085 - accuracy: 0.4665 - val_loss: 8.2631 - val_accuracy: 0.1339 - lr: 1.0000e-04\n",
            "Epoch 9/10\n",
            "8360/8362 [============================>.] - ETA: 0s - loss: 2.5677 - accuracy: 0.4759\n",
            "Epoch 9: val_accuracy improved from 0.13395 to 0.13429, saving model to C:/Users/nafla/OneDrive/Documents/GitHub/Data-generator-for-RS/models/item_model_checkpoint.weights.h5\n",
            "8362/8362 [==============================] - 254s 30ms/step - loss: 2.5678 - accuracy: 0.4759 - val_loss: 8.2773 - val_accuracy: 0.1343 - lr: 1.0000e-04\n",
            "Epoch 10/10\n",
            "8362/8362 [==============================] - ETA: 0s - loss: 2.4370 - accuracy: 0.5031\n",
            "Epoch 10: val_accuracy improved from 0.13429 to 0.13478, saving model to C:/Users/nafla/OneDrive/Documents/GitHub/Data-generator-for-RS/models/item_model_checkpoint.weights.h5\n",
            "8362/8362 [==============================] - 254s 30ms/step - loss: 2.4370 - accuracy: 0.5031 - val_loss: 8.2769 - val_accuracy: 0.1348 - lr: 1.0000e-05\n"
          ]
        }
      ],
      "source": [
        "\n",
        "# Add both callbacks to your model training\n",
        "history = model.fit([X_train], y_train,\n",
        "                    epochs=10,\n",
        "                    batch_size=64,\n",
        "                    validation_data=([X_val], y_val),\n",
        "                    callbacks=[ lr_reduction, checkpoint_callback, early_stopping],\n",
        "                    verbose=1)\n",
        "\n"
      ]
    },
    {
      "cell_type": "code",
      "execution_count": null,
      "metadata": {
        "colab": {
          "base_uri": "https://localhost:8080/"
        },
        "id": "5Ry3-l7suE-L",
        "outputId": "d52600f9-253d-4bf7-8a2c-2b9a1a76c7a0"
      },
      "outputs": [
        {
          "name": "stderr",
          "output_type": "stream",
          "text": [
            "/usr/local/lib/python3.10/dist-packages/keras/src/engine/training.py:3103: UserWarning: You are saving your model as an HDF5 file via `model.save()`. This file format is considered legacy. We recommend using instead the native Keras format, e.g. `model.save('my_model.keras')`.\n",
            "  saving_api.save_model(\n"
          ]
        },
        {
          "name": "stdout",
          "output_type": "stream",
          "text": [
            "Model loaded and saved successfully.\n"
          ]
        }
      ],
      "source": [
        "\n",
        "# Save the complete model (architecture + weights)\n",
        "complete_model_filepath = ('/content/drive/MyDrive/retailrocket/final_item_model.h5')\n",
        "model.save(complete_model_filepath)\n",
        "\n",
        "print(\"Model loaded and saved successfully.\")"
      ]
    },
    {
      "cell_type": "code",
      "execution_count": null,
      "metadata": {
        "colab": {
          "base_uri": "https://localhost:8080/"
        },
        "id": "Pu82iwWg8tiU",
        "outputId": "15632010-6418-4b09-fe9f-7eb68cd9a100"
      },
      "outputs": [
        {
          "name": "stdout",
          "output_type": "stream",
          "text": [
            "3553/3553 [==============================] - 39s 11ms/step - loss: 9.3313 - accuracy: 0.0931\n",
            "Test Loss: 9.331269264221191\n",
            "Test Accuracy: 0.0930633470416069\n"
          ]
        }
      ],
      "source": [
        "\n",
        "\n",
        "# Load the entire model for inference\n",
        "loaded_model = load_model('/content/drive/MyDrive/retailrocket/final_item_model.h5')\n",
        "\n",
        "# evaluate on the test set\n",
        "\n",
        "test_loss, test_accuracy = loaded_model.evaluate([X_test], y_test, verbose=1)\n",
        "\n",
        "print(f\"Test Loss: {test_loss}\")\n",
        "print(f\"Test Accuracy: {test_accuracy}\")"
      ]
    },
    {
      "cell_type": "code",
      "execution_count": null,
      "metadata": {
        "id": "O5WMUyOidCen"
      },
      "outputs": [],
      "source": [
        "from tensorflow.keras.models import load_model\n",
        "loaded_model = load_model('/content/drive/MyDrive/retailrocket/final_item_model.h5')"
      ]
    },
    {
      "cell_type": "code",
      "execution_count": null,
      "metadata": {
        "colab": {
          "base_uri": "https://localhost:8080/"
        },
        "id": "TU4k5bqSutSa",
        "outputId": "56cba1aa-27be-4246-8cc3-db97c3baf002"
      },
      "outputs": [
        {
          "name": "stdout",
          "output_type": "stream",
          "text": [
            "356/356 [==============================] - 2s 3ms/step\n"
          ]
        }
      ],
      "source": [
        "# Calculate the quarter index based on the total number of samples\n",
        "quarter_index = len(X_test) // 10\n",
        "\n",
        "# Split X_test into 10 quarters\n",
        "X_test_one_tenth = X_test[:quarter_index]\n",
        "\n",
        "\n",
        "# use these quarters independently for predictions due to computational problem\n",
        "predictions_one_tenth = loaded_model.predict(X_test_one_tenth)\n",
        "\n"
      ]
    },
    {
      "cell_type": "code",
      "execution_count": null,
      "metadata": {
        "colab": {
          "base_uri": "https://localhost:8080/"
        },
        "id": "qo45RceWz0RC",
        "outputId": "613fd8e3-813e-403a-8a39-902b1c79efa2"
      },
      "outputs": [
        {
          "name": "stdout",
          "output_type": "stream",
          "text": [
            "Hit Rate for the first quarter of the test data: 0.09526741731175228\n"
          ]
        }
      ],
      "source": [
        "# Extract the relevant portion of y_test for the first quarter\n",
        "y_test_first_quarter = y_test[:quarter_index]\n",
        "\n",
        "# Calculate the predicted classes from the softmax outputs\n",
        "predicted_classes_first_quarter = np.argmax(predictions_one_tenth, axis=1)\n",
        "\n",
        "# Calculate hits by comparing predicted classes with actual classes\n",
        "hits_first_quarter = np.sum(predicted_classes_first_quarter == y_test_first_quarter)\n",
        "\n",
        "# Calculate hit rate\n",
        "hit_rate_first_quarter = hits_first_quarter / len(y_test_first_quarter)\n",
        "\n",
        "# Print the hit rate\n",
        "print(\"Hit Rate for the first quarter of the test data:\", hit_rate_first_quarter)\n"
      ]
    },
    {
      "cell_type": "code",
      "execution_count": null,
      "metadata": {
        "colab": {
          "base_uri": "https://localhost:8080/"
        },
        "id": "QpzMrelizEe2",
        "outputId": "9fda1e75-6081-4049-db90-58c23982e9ff"
      },
      "outputs": [
        {
          "name": "stdout",
          "output_type": "stream",
          "text": [
            "Top-5 Hit Rate: 20.51%\n"
          ]
        }
      ],
      "source": [
        "def calculate_top_k_hit_rate(y_true, predictions, k=5):\n",
        "    top_k_hits = 0\n",
        "    for true_label, prediction in zip(y_true, predictions):\n",
        "        # `prediction` is sorted by confidence from highest to lowest\n",
        "        top_k_predictions = np.argsort(prediction)[-k:]\n",
        "        if true_label in top_k_predictions:\n",
        "            top_k_hits += 1\n",
        "    return top_k_hits / len(y_true)\n",
        "\n",
        "# Calculate hit rate for top-5 predictions\n",
        "top_5_hit_rate = calculate_top_k_hit_rate(y_test_first_quarter, predictions_one_tenth, k=5)\n",
        "print(f\"Top-5 Hit Rate: {top_5_hit_rate:.2%}\")\n"
      ]
    },
    {
      "cell_type": "code",
      "execution_count": null,
      "metadata": {
        "colab": {
          "base_uri": "https://localhost:8080/"
        },
        "id": "9a1NUjPm7EbL",
        "outputId": "d94c1805-a118-4a88-e2d3-4b3e0cdbf27d"
      },
      "outputs": [
        {
          "name": "stdout",
          "output_type": "stream",
          "text": [
            "Top-5 Hit Rate: 26.14%\n"
          ]
        }
      ],
      "source": [
        "top_5_hit_rate = calculate_top_k_hit_rate(y_test_first_quarter, predictions_one_tenth, k=10)\n",
        "print(f\"Top-10 Hit Rate: {top_5_hit_rate:.2%}\")"
      ]
    },
    {
      "cell_type": "code",
      "execution_count": null,
      "metadata": {
        "colab": {
          "base_uri": "https://localhost:8080/"
        },
        "id": "DIHP_WvE7SsL",
        "outputId": "a165ea1a-3605-4be5-e71e-06e594450662"
      },
      "outputs": [
        {
          "name": "stdout",
          "output_type": "stream",
          "text": [
            "Top-5 Hit Rate: 32.20%\n"
          ]
        }
      ],
      "source": [
        "top_5_hit_rate = calculate_top_k_hit_rate(y_test_first_quarter, predictions_one_tenth, k=20)\n",
        "print(f\"Top-20 Hit Rate: {top_5_hit_rate:.2%}\")"
      ]
    }
  ],
  "metadata": {
    "accelerator": "GPU",
    "colab": {
      "gpuType": "T4",
      "provenance": []
    },
    "kernelspec": {
      "display_name": "Python 3",
      "name": "python3"
    },
    "language_info": {
      "name": "python"
    }
  },
  "nbformat": 4,
  "nbformat_minor": 0
}
